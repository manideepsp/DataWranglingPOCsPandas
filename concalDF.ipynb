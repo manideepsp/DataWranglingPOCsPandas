{
 "cells": [
  {
   "cell_type": "code",
   "execution_count": 1,
   "metadata": {},
   "outputs": [],
   "source": [
    "# importing pandas module\n",
    "import pandas as pd \n",
    "\n",
    "# Define a dictionary containing employee data \n",
    "data1 = {'Name':['Jai', 'Princi', 'Gaurav', 'Anuj'], \n",
    "\t\t'Age':[27, 24, 22, 32], \n",
    "\t\t'Address':['Nagpur', 'Kanpur', 'Allahabad', 'Kannuaj'], \n",
    "\t\t'Qualification':['Msc', 'MA', 'MCA', 'Phd'],\n",
    "\t\t'Mobile No': [97, 91, 58, 76]} \n",
    "\t\n",
    "# Define a dictionary containing employee data \n",
    "data2 = {'Name':['Gaurav', 'Anuj', 'Dhiraj', 'Hitesh'], \n",
    "\t\t'Age':[22, 32, 12, 52], \n",
    "\t\t'Address':['Allahabad', 'Kannuaj', 'Allahabad', 'Kannuaj'], \n",
    "\t\t'Qualification':['MCA', 'Phd', 'Bcom', 'B.hons'],\n",
    "\t\t'Salary':[1000, 2000, 3000, 4000]} \n",
    "\n",
    "# Convert the dictionary into DataFrame \n",
    "df = pd.DataFrame(data1,index=[0, 1, 2, 3])\n",
    "\n",
    "# Convert the dictionary into DataFrame \n",
    "df1 = pd.DataFrame(data2, index=[2, 3, 6, 7])"
   ]
  },
  {
   "cell_type": "code",
   "execution_count": 6,
   "metadata": {},
   "outputs": [
    {
     "name": "stdout",
     "output_type": "stream",
     "text": [
      "     Name  Age    Address Qualification  Mobile No\n",
      "0     Jai   27     Nagpur           Msc         97\n",
      "1  Princi   24     Kanpur            MA         91\n",
      "2  Gaurav   22  Allahabad           MCA         58\n",
      "3    Anuj   32    Kannuaj           Phd         76 \n",
      "\n",
      "      Name  Age    Address Qualification  Salary\n",
      "2  Gaurav   22  Allahabad           MCA    1000\n",
      "3    Anuj   32    Kannuaj           Phd    2000\n",
      "6  Dhiraj   12  Allahabad          Bcom    3000\n",
      "7  Hitesh   52    Kannuaj        B.hons    4000\n"
     ]
    }
   ],
   "source": [
    "print(df, \"\\n\\n\", df1)"
   ]
  },
  {
   "cell_type": "code",
   "execution_count": 7,
   "metadata": {},
   "outputs": [
    {
     "name": "stdout",
     "output_type": "stream",
     "text": [
      "     Name  Age    Address Qualification  Mobile No  Salary\n",
      "0     Jai   27     Nagpur           Msc       97.0     NaN\n",
      "1  Princi   24     Kanpur            MA       91.0     NaN\n",
      "2  Gaurav   22  Allahabad           MCA       58.0     NaN\n",
      "3    Anuj   32    Kannuaj           Phd       76.0     NaN\n",
      "2  Gaurav   22  Allahabad           MCA        NaN  1000.0\n",
      "3    Anuj   32    Kannuaj           Phd        NaN  2000.0\n",
      "6  Dhiraj   12  Allahabad          Bcom        NaN  3000.0\n",
      "7  Hitesh   52    Kannuaj        B.hons        NaN  4000.0\n"
     ]
    }
   ],
   "source": [
    "# using a .concat() method\n",
    "frames = [df, df1]\n",
    "res = pd.concat(frames)\n",
    "print(res)"
   ]
  },
  {
   "cell_type": "code",
   "execution_count": 9,
   "metadata": {},
   "outputs": [
    {
     "name": "stdout",
     "output_type": "stream",
     "text": [
      "Name                Gaurav\n",
      "Age                     22\n",
      "Address          Allahabad\n",
      "Qualification          MCA\n",
      "Mobile No               58\n",
      "Name: 2, dtype: object \n",
      " Name                Gaurav\n",
      "Age                     22\n",
      "Address          Allahabad\n",
      "Qualification          MCA\n",
      "Salary                1000\n",
      "Name: 2, dtype: object\n"
     ]
    }
   ],
   "source": [
    "print(df.loc[2],\"\\n\", df1.loc[2])"
   ]
  },
  {
   "cell_type": "code",
   "execution_count": 13,
   "metadata": {},
   "outputs": [],
   "source": [
    "dfM = pd.merge(df, df1, on='Name', how='outer')"
   ]
  },
  {
   "cell_type": "code",
   "execution_count": 14,
   "metadata": {},
   "outputs": [
    {
     "name": "stdout",
     "output_type": "stream",
     "text": [
      "     Name  Age_x  Address_x Qualification_x  Mobile No  Age_y  Address_y  \\\n",
      "0    Anuj   32.0    Kannuaj             Phd       76.0   32.0    Kannuaj   \n",
      "1  Dhiraj    NaN        NaN             NaN        NaN   12.0  Allahabad   \n",
      "2  Gaurav   22.0  Allahabad             MCA       58.0   22.0  Allahabad   \n",
      "3  Hitesh    NaN        NaN             NaN        NaN   52.0    Kannuaj   \n",
      "4     Jai   27.0     Nagpur             Msc       97.0    NaN        NaN   \n",
      "5  Princi   24.0     Kanpur              MA       91.0    NaN        NaN   \n",
      "\n",
      "  Qualification_y  Salary  \n",
      "0             Phd  2000.0  \n",
      "1            Bcom  3000.0  \n",
      "2             MCA  1000.0  \n",
      "3          B.hons  4000.0  \n",
      "4             NaN     NaN  \n",
      "5             NaN     NaN  \n"
     ]
    }
   ],
   "source": [
    "print (dfM)"
   ]
  },
  {
   "cell_type": "code",
   "execution_count": null,
   "metadata": {},
   "outputs": [],
   "source": []
  }
 ],
 "metadata": {
  "kernelspec": {
   "display_name": "myLLM",
   "language": "python",
   "name": "python3"
  },
  "language_info": {
   "codemirror_mode": {
    "name": "ipython",
    "version": 3
   },
   "file_extension": ".py",
   "mimetype": "text/x-python",
   "name": "python",
   "nbconvert_exporter": "python",
   "pygments_lexer": "ipython3",
   "version": "3.12.0"
  }
 },
 "nbformat": 4,
 "nbformat_minor": 2
}
