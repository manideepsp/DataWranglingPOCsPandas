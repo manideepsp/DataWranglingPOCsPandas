{
 "cells": [
  {
   "cell_type": "code",
   "execution_count": 14,
   "metadata": {},
   "outputs": [],
   "source": [
    "from selenium import webdriver\n",
    "from selenium.webdriver.common.by import By\n",
    "from selenium.webdriver.chrome.service import Service\n",
    "from selenium.webdriver.common.keys import Keys\n",
    "from selenium.webdriver.support.ui import WebDriverWait\n",
    "from selenium.webdriver.support import expected_conditions as EC\n",
    "from bs4 import BeautifulSoup as bs\n",
    "import pandas as pd\n",
    "from tqdm import tqdm\n",
    "import time"
   ]
  },
  {
   "cell_type": "code",
   "execution_count": 24,
   "metadata": {},
   "outputs": [],
   "source": [
    "# Your Netflix credentials\n",
    "NETFLIX_EMAIL = \"6300519475\"  # Replace with your Netflix email\n",
    "NETFLIX_PASSWORD = \"MANIsharan@02\"       # Replace with your Netflix password\n",
    "profile_name_mentioned = \"others\"  # Replace with the profile name you want to scrape"
   ]
  },
  {
   "cell_type": "code",
   "execution_count": 16,
   "metadata": {},
   "outputs": [],
   "source": [
    "# Path to ChromeDriver\n",
    "service = Service(r\"C:\\Users\\Manideep S\\Downloads\\chromedriver-win64\\chromedriver-win64\\chromedriver.exe\")  # Replace with your ChromeDriver path\n",
    "driver = webdriver.Chrome(service=service)"
   ]
  },
  {
   "cell_type": "code",
   "execution_count": 17,
   "metadata": {},
   "outputs": [],
   "source": [
    "# Step 1: Open Netflix login page\n",
    "driver.get(\"https://www.netflix.com/login\")"
   ]
  },
  {
   "cell_type": "code",
   "execution_count": 18,
   "metadata": {},
   "outputs": [],
   "source": [
    "# Step 2: Wait for the email input to load and enter email\n",
    "WebDriverWait(driver, 10).until(EC.presence_of_element_located((By.ID, \":rc:\")))\n",
    "email_input = driver.find_element(By.ID, \":rc:\")\n",
    "email_input.clear()\n",
    "email_input.send_keys(NETFLIX_EMAIL)"
   ]
  },
  {
   "cell_type": "code",
   "execution_count": 19,
   "metadata": {},
   "outputs": [],
   "source": [
    "# Step 3: Enter password\n",
    "password_input = driver.find_element(By.ID, \":rf:\")\n",
    "password_input.clear()\n",
    "password_input.send_keys(NETFLIX_PASSWORD)"
   ]
  },
  {
   "cell_type": "code",
   "execution_count": 20,
   "metadata": {},
   "outputs": [],
   "source": [
    "# Step 4: Submit login form\n",
    "password_input.send_keys(Keys.RETURN)"
   ]
  },
  {
   "cell_type": "code",
   "execution_count": 21,
   "metadata": {},
   "outputs": [
    {
     "data": {
      "text/plain": [
       "<selenium.webdriver.remote.webelement.WebElement (session=\"af883bd60333b4d70cca1fac2516bfae\", element=\"f.1536457E7EA8446C38D0B0F717AEB343.d.E46D72BDDC258BEC39B624B356509E8B.e.44\")>"
      ]
     },
     "execution_count": 21,
     "metadata": {},
     "output_type": "execute_result"
    }
   ],
   "source": [
    "# Step 5: Wait for the page to load after login\n",
    "WebDriverWait(driver, 10).until(EC.presence_of_element_located((By.CLASS_NAME, \"profile-gate-label\")))"
   ]
  },
  {
   "cell_type": "code",
   "execution_count": null,
   "metadata": {},
   "outputs": [
    {
     "name": "stdout",
     "output_type": "stream",
     "text": [
      "Found profile: Ashishsp, URL: None\n",
      "Found profile: others, URL: https://www.netflix.com/SwitchProfile?tkn=7TSUO4SAABE7FCAPUZ6WNU7RUU\n",
      "Found profile: Sharan, URL: https://www.netflix.com/SwitchProfile?tkn=DRQRSJRMZJBGHLVZ4TRTUJHZNQ\n",
      "Found profile: Children, URL: https://www.netflix.com/SwitchProfile?tkn=IXDGOEYAN5BPJADURC3PMAUNIQ\n",
      "Profile found: others\n"
     ]
    }
   ],
   "source": [
    "# Step 6: Extract all profile links\n",
    "profiles_found = []\n",
    "profiles = driver.find_elements(By.CLASS_NAME, \"profile\")\n",
    "for profile in profiles:\n",
    "    profile_name = profile.find_element(By.CLASS_NAME, \"profile-name\").text\n",
    "    href = profile.find_element(By.TAG_NAME, \"a\").get_attribute(\"href\")\n",
    "    print(f\"Found profile: {profile_name}, URL: {href}\")\n",
    "    profiles_found.append({\"profile_name\": profile_name, \"href\": href})\n",
    "\n",
    "\n",
    "\n",
    "# # Example: Select the mentioned profile\n",
    "# if any(profile_name_mentioned.lower() in profile[\"profile_name\"].lower() for profile in profiles_found):\n",
    "#     # print(f\"Profile found: {profile_name_mentioned}\")\n",
    "#     print(f\"Redirecting to the {profile_name_mentioned}: {if}\")\n",
    "#     driver.get(first_profile_href)\n",
    "#     # Step 7: Proceed with scraping after profile switch\n",
    "#     time.sleep(5)  # Allow the page to load fully\n",
    "#     print(\"Successfully switched to the profile and ready to scrape!\")"
   ]
  },
  {
   "cell_type": "code",
   "execution_count": 30,
   "metadata": {},
   "outputs": [
    {
     "name": "stdout",
     "output_type": "stream",
     "text": [
      "Profile found: others, href: https://www.netflix.com/SwitchProfile?tkn=7TSUO4SAABE7FCAPUZ6WNU7RUU\n",
      "Redirecting to: https://www.netflix.com/SwitchProfile?tkn=7TSUO4SAABE7FCAPUZ6WNU7RUU\n",
      "Successfully switched to the profile and ready to scrape!\n"
     ]
    }
   ],
   "source": [
    "# Check if profile exists and retrieve its href\n",
    "matched_profile = next(\n",
    "    (profile for profile in profiles_found if profile_name_mentioned.lower() in profile[\"profile_name\"].lower()),\n",
    "    None\n",
    ")\n",
    "\n",
    "if matched_profile:\n",
    "    href = matched_profile[\"href\"]\n",
    "    print(f\"Profile found: {profile_name_mentioned}, href: {href}\")\n",
    "    # Perform operations with href\n",
    "    print(f\"Redirecting to: {href}\")\n",
    "    driver.get(href)\n",
    "    # Step 7: Proceed with scraping after profile switch\n",
    "    time.sleep(5)  # Allow the page to load fully\n",
    "    print(\"Successfully switched to the profile and ready to scrape!\")\n",
    "else:\n",
    "    print(f\"Profile not found: {profile_name_mentioned}\")"
   ]
  },
  {
   "cell_type": "code",
   "execution_count": null,
   "metadata": {},
   "outputs": [],
   "source": [
    "# Step 7: Proceed with scraping\n",
    "time.sleep(5)  # Allow time for the homepage to load fully"
   ]
  },
  {
   "cell_type": "code",
   "execution_count": 31,
   "metadata": {},
   "outputs": [],
   "source": [
    "# Example scraping code (Netflix homepage as an example)\n",
    "html = driver.page_source\n",
    "soup = bs(html, \"html.parser\")"
   ]
  },
  {
   "cell_type": "code",
   "execution_count": 32,
   "metadata": {},
   "outputs": [
    {
     "name": "stdout",
     "output_type": "stream",
     "text": [
      "Found 103 links.\n"
     ]
    }
   ],
   "source": [
    "# Find some data (adjust selectors based on your needs)\n",
    "links = soup.find_all('a', href=True)  # Adjust for the actual Netflix content structure\n",
    "print(f\"Found {len(links)} links.\")"
   ]
  },
  {
   "cell_type": "code",
   "execution_count": 33,
   "metadata": {},
   "outputs": [],
   "source": [
    "# Clean up\n",
    "driver.quit()"
   ]
  },
  {
   "cell_type": "code",
   "execution_count": 34,
   "metadata": {},
   "outputs": [
    {
     "name": "stdout",
     "output_type": "stream",
     "text": [
      "[<a aria-label=\"Netflix\" class=\"logo icon-logoUpdate active\" href=\"/browse\"></a>, <a aria-haspopup=\"true\" class=\"menu-trigger\" href=\"/browse\" role=\"button\" tabindex=\"0\">Browse</a>, <a class=\"current active\" href=\"/browse\">Home</a>, <a href=\"/browse/genre/83\">TV Shows</a>, <a href=\"/browse/genre/34399\">Movies</a>, <a href=\"/latest\">New &amp; Popular</a>, <a href=\"/browse/my-list\">My List</a>, <a href=\"/browse/original-audio\">Browse by Languages</a>, <a href=\"/Kids\">Children</a>, <a aria-expanded=\"false\" aria-haspopup=\"true\" aria-label=\"others – Account &amp; Settings\" href=\"/YourAccount\" role=\"button\" tabindex=\"0\"><span class=\"profile-link\" role=\"presentation\"><img alt=\"\" class=\"profile-icon\" src=\"https://occ-0-2484-3663.1.nflxso.net/dnm/api/v6/vN7bi_My87NPKvsBoib006Llxzg/AAAABXz4LMjJFidX8MxhZ6qro8PBTjmHbxlaLAbk45W1DXbKsAIOwyHQPiMAuUnF1G24CLi7InJHK4Ge4jkXul1xIW49Dr5S7fc.png?r=e6e\"/></span></a>, <a aria-label=\"Play\" class=\"playLink isToolkit\" data-uia=\"play-button\" href=\"/watch/81480005?trackId=254015180&amp;tctx=0%2C0%2Cdfa6b48e-a329-4a22-a1df-3d83db05eb30-12608581%2CNES_30E10B462DA7F9D1B316E527AA97AD-E911D54DEEF141-8721E6B06B_p_1737614777122%2CNES_30E10B462DA7F9D1B316E527AA97AD_p_1737614777122%2C%2C%2C%2C%2CVideo%3A80995578%2C\" role=\"link\"><button class=\"color-primary hasLabel hasIcon ltr-podnco\" tabindex=\"-1\" type=\"button\"><div class=\"ltr-1st24vv\"><div class=\"medium ltr-iyulz3\" role=\"presentation\"><svg aria-hidden=\"true\" data-icon=\"PlayStandard\" fill=\"none\" height=\"24\" role=\"img\" viewbox=\"0 0 24 24\" width=\"24\" xmlns=\"http://www.w3.org/2000/svg\"><path d=\"M5 2.69127C5 1.93067 5.81547 1.44851 6.48192 1.81506L23.4069 11.1238C24.0977 11.5037 24.0977 12.4963 23.4069 12.8762L6.48192 22.1849C5.81546 22.5515 5 22.0693 5 21.3087V2.69127Z\" fill=\"currentColor\"></path></svg></div></div><div class=\"ltr-1npqywr\" style=\"width: 1rem;\"></div><span class=\"ltr-1vh9doa\">Play</span></button></a>, <a class=\"rowTitle ltr-0\" href=\"/browse/m/popular-titles\"><div class=\"row-header-title\">Your Next Watch</div><div class=\"aro-row-header more-visible\"><div class=\"see-all-link\">Explore All</div><div class=\"aro-row-chevron icon-akiraCaretRight\"></div></div></a>, <a aria-hidden=\"false\" aria-label=\"Squid Game\" class=\"slider-refocus\" href=\"/watch/81040344?tctx=1%2C0%2C%2C%2C%2C%2C%2C%2C%2CVideo%3A81040344%2C\" role=\"link\" tabindex=\"0\"><div class=\"boxart-container boxart-rounded boxart-size-16x9\"><img alt=\"\" class=\"boxart-image boxart-image-in-padded-container\" src=\"https://occ-0-2484-3663.1.nflxso.net/dnm/api/v6/Qs00mKCpRvrkl3HZAN5KwEL1kpE/AAAABXmqaroX915ZCWUYXvOeygyp20kPHQUO7GxAihOsfs81_XWHp95xZx2RGXOf5yjalcFz4hE7PwltUlualRp_kzvVpcgSIiRheBh7kByJLOY1yPdam9_UZRQB-fgIGbFI6Fl6ELkk_A_kOHgWeLUC4fnGumxhG9Ew7OsbT4sGSn4wti9Tz986m3PjOoOA6PMVyFHrrIwkPx3qpV_TVxnRD-p73JLYdPLolACCrWLNz2f00Kj0-C1yFIhwneMI48w8YaBvGYjm4JMJHdEy9liDOAg2LLbgeQMlMXkDS-V50acEYc9__VikJ8rwhSczGXVHBJn5olUhAg7qQwCxbGnnvHtCsS89Wg5W5PMyy6Ywvp0AkA.jpg?r=f15\"/><div aria-hidden=\"true\" class=\"fallback-text-container\"><p class=\"fallback-text\">Squid Game</p></div></div></a>, <a aria-hidden=\"false\" aria-label=\"Lucky Baskhar\" class=\"slider-refocus\" href=\"/watch/81902035?tctx=1%2C1%2C%2C%2C%2C%2C%2C%2C%2CVideo%3A81902035%2C\" role=\"link\" tabindex=\"0\"><div class=\"boxart-container boxart-rounded boxart-size-16x9\"><img alt=\"\" class=\"boxart-image boxart-image-in-padded-container\" src=\"https://occ-0-2484-3663.1.nflxso.net/dnm/api/v6/Qs00mKCpRvrkl3HZAN5KwEL1kpE/AAAABT0nvDywwxZ2HGx07tUw0eqQCDJpDvXkb30pj7q7mYcMdRYe_yoL9SRoUt0r-MXaqXWBE47i-2Fg9xCTny5JZ9F1lyrAa3Y31F9GbGQgePv8Xu30h9RHNWE-CS6FOTGZHRmSN5zadsUgaPXKvSrqXRksGzq6UtfFyHQ.webp?r=f20\"/><div aria-hidden=\"true\" class=\"fallback-text-container\"><p class=\"fallback-text\">Lucky Baskhar</p></div></div></a>, <a aria-hidden=\"false\" aria-label=\"Black Warrant\" class=\"slider-refocus\" href=\"/watch/81971071?tctx=1%2C2%2C%2C%2C%2C%2C%2C%2C%2CVideo%3A81971071%2C\" role=\"link\" tabindex=\"0\"><div class=\"boxart-container boxart-rounded boxart-size-16x9\"><img alt=\"\" class=\"boxart-image boxart-image-in-padded-container\" src=\"https://occ-0-2484-3663.1.nflxso.net/dnm/api/v6/Qs00mKCpRvrkl3HZAN5KwEL1kpE/AAAABQGfopb77E-ntK6Zghep7OtVhuxXAaftD7Yc8zR3IaqbfExlp8sV4i595bYthNcHRR-bO8mHBU6e_hUrBIqWYhGpaMG-qjUPquS7AaXnqp4BMVRUXpzVLDTWLTp1danJoCc7x51sS2lAl7jVYyFGVDH3pjxkW0uo6ZkjdnkZEPZECSD1wyX7-trPwzfocHTzK9wIS4ETAXjIvez3bYcNkEinpZ2B_5AsUxtLJzwNBFVNuQccNLmCaxsGTCPXKunFQ5qMVrSO77hFFbKnT6cjYBOZvdkDeH7U8fbcmn2mw6jG_0gq7IJx1NTjyUNlg9LlEivyXDs8EEbGIkLvXo1RdY7ecXl3BDgYHAFy5C6pJSKzotaVxDo.jpg?r=fd8\"/><div aria-hidden=\"true\" class=\"fallback-text-container\"><p class=\"fallback-text\">Black Warrant</p></div></div></a>, <a aria-hidden=\"false\" aria-label=\"Money Heist\" class=\"slider-refocus\" href=\"/watch/80192098?tctx=1%2C3%2C%2C%2C%2C%2C%2C%2C%2CVideo%3A80192098%2C\" role=\"link\" tabindex=\"0\"><div class=\"boxart-container boxart-rounded boxart-size-16x9\"><img alt=\"\" class=\"boxart-image boxart-image-in-padded-container\" src=\"https://occ-0-2484-3663.1.nflxso.net/dnm/api/v6/Qs00mKCpRvrkl3HZAN5KwEL1kpE/AAAABfuBxwODJWGpnxkkB_o4u6261-94UU3qXviCR10RUPHt_t2aUmLdxZSf9Ya1QPVE-RSGPIFap0ktl5E9IzJCdmOleGJlBtkgbJ9w5m7dY_HIg34-vtCLyJn7oD0YolAl8jOJ.jpg?r=8a4\"/><div aria-hidden=\"true\" class=\"fallback-text-container\"><p class=\"fallback-text\">Money Heist</p></div></div></a>, <a aria-hidden=\"true\" aria-label=\"XO, Kitty\" class=\"slider-refocus\" href=\"/watch/81324724?tctx=1%2C4%2C%2C%2C%2C%2C%2C%2C%2CVideo%3A81324724%2C\" tabindex=\"-1\"><div class=\"boxart-container boxart-rounded boxart-size-16x9\"><img alt=\"\" class=\"boxart-image boxart-image-in-padded-container\" src=\"https://occ-0-2484-3663.1.nflxso.net/dnm/api/v6/Qs00mKCpRvrkl3HZAN5KwEL1kpE/AAAABQyoNcIDpemnjkBkEZyPh2rfjawOGam0O8I4KrGLf-cfeMm02fzxmoyfvqWtM1cRst04OS-spVDRkG-3vswA8vStf3NtDhzKxzm1t9tAf4xMKF8K_Sl3akb1TcsuIykVjyQtO-22rVBn7AdzPMuHRx8jEotpMFlG8vnTOHobFQ9CWncrRnRG0EBV64LPhjwswaIWfDv0Sd0pt97YzWO_RpLEKntxMX7jivO2zRMw-ysa7_vEqey96YcfR7AQkgIH2DM8h3tJqKu8Z4pUDDae8QrULG2k5Sdo9U9j67Dr0nEMiytU5VNm1YX497BjfiQu7pSIO1vxPTiR9wyD25qyDDNflj9I0Wl_1lthk-VyKy2tTw.jpg?r=6a9\"/><div aria-hidden=\"true\" class=\"fallback-text-container\"><p class=\"fallback-text\">XO, Kitty</p></div></div></a>, <a aria-hidden=\"true\" aria-label=\"Bhool Bhulaiyaa 3\" class=\"slider-refocus\" href=\"/watch/81686134?tctx=1%2C5%2C%2C%2C%2C%2C%2C%2C%2CVideo%3A81686134%2C\" tabindex=\"-1\"><div class=\"boxart-container boxart-rounded boxart-size-16x9\"><img alt=\"\" class=\"boxart-image boxart-image-in-padded-container\" src=\"https://occ-0-2484-3663.1.nflxso.net/dnm/api/v6/Qs00mKCpRvrkl3HZAN5KwEL1kpE/AAAABTKmhsdUe_eL_9Kd6uWbxcU58CZDrBNnkuuuXpXNYRqSdxJ9HD5GeI5O9GgRA5iOTHrPl73iHj8ISEuJiUhHifSOWpjOOTCc-ql-fnSOzzLSdO-pCCWtOAPqCr0xRRiLOodIhhdGaYv-ouX5cDBlU058uHmaAaM5b3Wz1-OpH-djtrJrgK1gbae4rcHr03qrG5d3IEc7qmU6p0-nTjZsRMe-XSi0pzUesFJLRGytBYcB5F1053CFQIbJxogHgUr8jpsvn3LTxOTea9k5rOyLwmOb1iSDV3pCWBTXNDJNBHrYNT0tQeB0L3Bqz_ojksT1odGu8YpTKzO2GEais1CnGYA.webp?r=4b0\"/><div aria-hidden=\"true\" class=\"fallback-text-container\"><p class=\"fallback-text\">Bhool Bhulaiyaa 3</p></div></div></a>, <a aria-hidden=\"true\" aria-label=\"Amaran\" class=\"slider-refocus\" href=\"/watch/81728596?tctx=1%2C6%2C%2C%2C%2C%2C%2C%2C%2CVideo%3A81728596%2C\" tabindex=\"-1\"><div class=\"boxart-container boxart-rounded boxart-size-16x9\"><img alt=\"\" class=\"boxart-image boxart-image-in-padded-container\" src=\"https://occ-0-2484-3663.1.nflxso.net/dnm/api/v6/Qs00mKCpRvrkl3HZAN5KwEL1kpE/AAAABaCyyKmj3BNOI-iRsrEtgyl1sK54L56iTlVVtFT70ouo-k8dKBMQvUl-FOmCCjkI2sVMVZxJ8_71WbTc-S9Bwircvi5_PcF7jwpBJZdLTQ6e5Oi1ApkHkbVZnNXPXE8ZseHTPMTvsfG9lGaZ4bWXjG2tA3Gjk5ZpqWQ.webp?r=42b\"/><div aria-hidden=\"true\" class=\"fallback-text-container\"><p class=\"fallback-text\">Amaran</p></div></div></a>, <a aria-hidden=\"true\" aria-label=\"Thangalaan\" class=\"slider-refocus\" href=\"/watch/81632727?tctx=1%2C7%2C%2C%2C%2C%2C%2C%2C%2CVideo%3A81632727%2C\" tabindex=\"-1\"><div class=\"boxart-container boxart-rounded boxart-size-16x9\"><img alt=\"\" class=\"boxart-image boxart-image-in-padded-container\" src=\"https://occ-0-2484-3663.1.nflxso.net/dnm/api/v6/Qs00mKCpRvrkl3HZAN5KwEL1kpE/AAAABWCq8GtbpleK4v1bp5RfxCIQGhCCKwh6xOdVUsD9wUFpDlIGeoPSDjavKowI9wxjwzSEj90-Zj6yQn5suYlDK4QEwnwrtKq3fLJdiWDPZ5-41HPW7SvHol8g6mO6b12amUqW3prbj0VOjZYdgU5HRPgSpbh8BgwDecI.webp?r=a21\"/><div aria-hidden=\"true\" class=\"fallback-text-container\"><p class=\"fallback-text\">Thangalaan</p></div></div></a>, <a class=\"rowTitle ltr-0\" href=\"/browse/m/continue-watching\"><div class=\"row-header-title\">Continue Watching for others</div><div class=\"aro-row-header more-visible\"><div class=\"see-all-link\">Explore All</div><div class=\"aro-row-chevron icon-akiraCaretRight\"></div></div></a>, <a aria-hidden=\"false\" aria-label=\"Alice in Borderland\" class=\"slider-refocus\" href=\"/watch/80200575?tctx=2%2C0%2C%2C%2C%2C%2C%2C%2C%2CVideo%3A80200575%2C\" role=\"link\" tabindex=\"0\"><div class=\"boxart-container boxart-rounded boxart-size-16x9\"><img alt=\"\" class=\"boxart-image boxart-image-in-padded-container\" src=\"https://occ-0-2484-3663.1.nflxso.net/dnm/api/v6/Qs00mKCpRvrkl3HZAN5KwEL1kpE/AAAABThAA71tcLoZUSZpZ6_YQL6C-EUNGx78WSFjNOvY70wP3hQ1J0eZIomyNXpCq_3VjL4JCPWDG4DlstdeupDPRPhRAfIF1IEEqZ81jjq5evg2wi6HkGV-7px0fDLF2h-Kp-Re38yKRv0_pbdUFnuBvifLBdKjgIGx_O8cCcoIBf4BRxggqlMIGsrz2NZvqX0.jpg?r=134\"/><div aria-hidden=\"true\" class=\"fallback-text-container\"><p class=\"fallback-text\">Alice in Borderland</p></div></div></a>, <a aria-hidden=\"false\" aria-label=\"The Great Indian Kapil Show\" class=\"slider-refocus\" href=\"/watch/81737430?tctx=2%2C1%2C%2C%2C%2C%2C%2C%2C%2CVideo%3A81737430%2C\" role=\"link\" tabindex=\"0\"><div class=\"boxart-container boxart-rounded boxart-size-16x9\"><img alt=\"\" class=\"boxart-image boxart-image-in-padded-container\" src=\"https://occ-0-2484-3663.1.nflxso.net/dnm/api/v6/Qs00mKCpRvrkl3HZAN5KwEL1kpE/AAAABY1GMm6xwuTzXCbxnFrwljN8l0_SyBMzt4IHnK2Yx48l5MTsdIIe-_EkGPpydtUIKbeNAb0hqjwEWysjAqknEaWlsSdkEwn64_qc7eOtgYpHYHY31SJSOqZO6rNkfpne6ed_.jpg?r=61f\"/><div aria-hidden=\"true\" class=\"fallback-text-container\"><p class=\"fallback-text\">The Great Indian Kapil Show</p></div></div></a>, <a aria-hidden=\"false\" aria-label=\"CBI 5: The Brain\" class=\"slider-refocus\" href=\"/watch/81597698?tctx=2%2C2%2C%2C%2C%2C%2C%2C%2C%2CVideo%3A81597698%2C\" role=\"link\" tabindex=\"0\"><div class=\"boxart-container boxart-rounded boxart-size-16x9\"><img alt=\"\" class=\"boxart-image boxart-image-in-padded-container\" src=\"https://occ-0-2484-3663.1.nflxso.net/dnm/api/v6/Qs00mKCpRvrkl3HZAN5KwEL1kpE/AAAABT9wKntmeTpTR4Lu05wKRVHEJl_vy6jp2-2_U63A4oNHQMJuMcGfA4I7QlLlQxTrMLLSgPFKS8b-cNs8uF3m2fNb9wXabNXSzdY.webp?r=9e4\"/><div aria-hidden=\"true\" class=\"fallback-text-container\"><p class=\"fallback-text\">CBI 5: The Brain</p></div></div></a>, <a aria-hidden=\"false\" aria-label=\"VINLAND SAGA\" class=\"slider-refocus\" href=\"/watch/81249833?tctx=2%2C3%2C%2C%2C%2C%2C%2C%2C%2CVideo%3A81249833%2C\" role=\"link\" tabindex=\"0\"><div class=\"boxart-container boxart-rounded boxart-size-16x9\"><img alt=\"\" class=\"boxart-image boxart-image-in-padded-container\" src=\"https://occ-0-2484-3663.1.nflxso.net/dnm/api/v6/Qs00mKCpRvrkl3HZAN5KwEL1kpE/AAAABeBGRfZ0Tvh8xkq5seWInSIvZKTsNkLUd9ZQL1HyNgUig39FSzuGFQ72n_e55V4zaIob4-ZCZKSGu5GW1ATc9wBjJ3vWWaTwh_Y.webp?r=43a\"/><div aria-hidden=\"true\" class=\"fallback-text-container\"><p class=\"fallback-text\">VINLAND SAGA</p></div></div></a>, <a aria-hidden=\"true\" aria-label=\"Article 370\" class=\"slider-refocus\" href=\"/watch/81773534?tctx=2%2C4%2C%2C%2C%2C%2C%2C%2C%2CVideo%3A81773534%2C\" tabindex=\"-1\"><div class=\"boxart-container boxart-rounded boxart-size-16x9\"><img alt=\"\" class=\"boxart-image boxart-image-in-padded-container\" src=\"https://occ-0-2484-3663.1.nflxso.net/dnm/api/v6/Qs00mKCpRvrkl3HZAN5KwEL1kpE/AAAABUA101vJ6UluBAqfbFodYNprWNBc5ualG1dadO_P5uXRnu3ZNxmfCTKU7zxzMrvwKsfIS_-m8s1unuyAnvvaOwISevTUeKaZKCg.webp?r=28d\"/><div aria-hidden=\"true\" class=\"fallback-text-container\"><p class=\"fallback-text\">Article 370</p></div></div></a>, <a aria-hidden=\"true\" aria-label=\"Zindagi Na Milegi Dobara\" class=\"slider-refocus\" href=\"/watch/70202336?tctx=2%2C5%2C%2C%2C%2C%2C%2C%2C%2CVideo%3A70202336%2C\" tabindex=\"-1\"><div class=\"boxart-container boxart-rounded boxart-size-16x9\"><img alt=\"\" class=\"boxart-image boxart-image-in-padded-container\" src=\"https://occ-0-2484-3663.1.nflxso.net/dnm/api/v6/Qs00mKCpRvrkl3HZAN5KwEL1kpE/AAAABUW7-5TWv4bTk_B3QtnOSknIoLVV6E9B9esjI0FGqxlyrdI2amTsUBsS-fDx4OiHL7DdOsxIdOdQuvCHGi-Q2LJS3K-YN3Ayie0.webp?r=59e\"/><div aria-hidden=\"true\" class=\"fallback-text-container\"><p class=\"fallback-text\">Zindagi Na Milegi Dobara</p></div></div></a>, <a aria-hidden=\"true\" aria-label=\"Money, Explained\" class=\"slider-refocus\" href=\"/watch/81345769?tctx=2%2C6%2C%2C%2C%2C%2C%2C%2C%2CVideo%3A81345769%2C\" tabindex=\"-1\"><div class=\"boxart-container boxart-rounded boxart-size-16x9\"><img alt=\"\" class=\"boxart-image boxart-image-in-padded-container\" src=\"https://occ-0-2484-3663.1.nflxso.net/dnm/api/v6/Qs00mKCpRvrkl3HZAN5KwEL1kpE/AAAABeFUpbRXZm6HHmtZgtp4RhMP6VV63QHKQcBG8Exo0TokT5237tdsxkJIbLpwchhwL3E6STZ7EQFVZ-xto24GD54gKvYhH3mG5Y67x8NVJwwAWyHdaT9Nk499EpwCVAHixa-3.jpg?r=8d6\"/><div aria-hidden=\"true\" class=\"fallback-text-container\"><p class=\"fallback-text\">Money, Explained</p></div></div></a>, <a aria-hidden=\"true\" aria-label=\"Non Negotiable\" class=\"slider-refocus\" href=\"/watch/81728085?tctx=2%2C7%2C%2C%2C%2C%2C%2C%2C%2CVideo%3A81728085%2C\" tabindex=\"-1\"><div class=\"boxart-container boxart-rounded boxart-size-16x9\"><img alt=\"\" class=\"boxart-image boxart-image-in-padded-container\" src=\"https://occ-0-2484-3663.1.nflxso.net/dnm/api/v6/Qs00mKCpRvrkl3HZAN5KwEL1kpE/AAAABczg9JKsGvH97PUABJOISBEIt0uENywhqeWatJwySfg9GttjOtI4x2orltNDeJI8vsI_jwstoXKmlkUErmbvfa78BNkt7nwGM8Q2xpKmCJ8IFCRQBY14SjEAzbMQnn70djY0.jpg?r=355\"/><div aria-hidden=\"true\" class=\"fallback-text-container\"><p class=\"fallback-text\">Non Negotiable</p></div></div></a>, <a class=\"rowTitle ltr-0\" href=\"/browse/m/genre/6548\"><div class=\"row-header-title\">Comedy Movies</div><div class=\"aro-row-header more-visible\"><div class=\"see-all-link\">Explore All</div><div class=\"aro-row-chevron icon-akiraCaretRight\"></div></div></a>, <a aria-hidden=\"false\" aria-label=\"Back in Action\" class=\"slider-refocus\" href=\"/watch/81307099?tctx=3%2C0%2C%2C%2C%2C%2C%2C%2C%2CVideo%3A81307099%2C\" role=\"link\" tabindex=\"0\"><div class=\"boxart-container boxart-rounded boxart-size-16x9\"><img alt=\"\" class=\"boxart-image boxart-image-in-padded-container\" src=\"https://occ-0-2484-3663.1.nflxso.net/dnm/api/v6/Qs00mKCpRvrkl3HZAN5KwEL1kpE/AAAABYUaOU9_k7w9YKkqHOuoM8Qniv7Acn1XrRLrUKdfDUbfh2XAB93lQ4GpfzQNzEktN52LdKJLb7vaRFzTkqsYRcq3F5QvpouBqRuFDVqqqeQ_erPRTMu_PTsbwUxROC_8zAiRhCqzLDojjIKxxiUovywauBoMkrAiCUzxwJM7cIudZf4n_aA7bWY_RNzgBBEZ4GkPBdllSz1f8kuEChl0OgqFN6jRpwtryD2ov1Rce85OgIUlc01DxouStRFpPPQGvx0mZt7FL2FjowRFlb3gNYdSxerP5pEQw4Q3aqLsKq24nZ-2ufEo0CNoJ0eE1WJxWx9qOnmD976vSF29fP5jzxAI0vdVegAG4oX9KD3RHLoNKU4AyKU.jpg?r=b55\"/><div aria-hidden=\"true\" class=\"fallback-text-container\"><p class=\"fallback-text\">Back in Action</p></div></div></a>, <a aria-hidden=\"false\" aria-label=\"Mathu Vadalara 2\" class=\"slider-refocus\" href=\"/watch/81942680?tctx=3%2C1%2C%2C%2C%2C%2C%2C%2C%2CVideo%3A81942680%2C\" role=\"link\" tabindex=\"0\"><div class=\"boxart-container boxart-rounded boxart-size-16x9\"><img alt=\"\" class=\"boxart-image boxart-image-in-padded-container\" src=\"https://occ-0-2484-3663.1.nflxso.net/dnm/api/v6/Qs00mKCpRvrkl3HZAN5KwEL1kpE/AAAABQtmV3CphX9cGnTUjyTL2VsJPT0Cz-tntL8bMWLPNmbCh_YP16xwomWVWwWcgtWFBH6xcl4cPjKHvsQMm5UCMNt46iCEjTYyx7M.webp?r=519\"/><div aria-hidden=\"true\" class=\"fallback-text-container\"><p class=\"fallback-text\">Mathu Vadalara 2</p></div></div></a>, <a aria-hidden=\"false\" aria-label=\"Rifle Club\" class=\"slider-refocus\" href=\"/watch/81752390?tctx=3%2C2%2C%2C%2C%2C%2C%2C%2C%2CVideo%3A81752390%2C\" role=\"link\" tabindex=\"0\"><div class=\"boxart-container boxart-rounded boxart-size-16x9\"><img alt=\"\" class=\"boxart-image boxart-image-in-padded-container\" src=\"https://occ-0-2484-3663.1.nflxso.net/dnm/api/v6/Qs00mKCpRvrkl3HZAN5KwEL1kpE/AAAABax6I6O4-5f-yO0yaEsS55CnPzBpAfb9C3nQbvaJ8HgaasjuVYrh-121q-NptooiBAXmoR23dH-Log1o1hVtnvT69eJezwGLoH64rjaAdH7HvJjS_2Ezf5cq0Ba9-kNyfSNzOOBYXKyp7tjrmd0oor6KXhxkrPfUfpOFl09evBHWY2N6y06hRweQPo16c25mj3kvU6iSvrLkOAqNwsFiC1jLUEkJm58_vnuhUjnDYJeUB8JbH42UiK0klP7qRKGIq_6YuMlGs3hanA3uWBYkUPhTOc62q70IGcY3kynm14OE2zifFikhs0AHGNlPI5mhDwCHg3r-5ZVGa0-FJLC6oBk.webp?r=956\"/><div aria-hidden=\"true\" class=\"fallback-text-container\"><p class=\"fallback-text\">Rifle Club</p></div></div></a>, <a aria-hidden=\"false\" aria-label=\"Vicky Vidya ka Woh Wala Video\" class=\"slider-refocus\" href=\"/watch/81686136?tctx=3%2C3%2C%2C%2C%2C%2C%2C%2C%2CVideo%3A81686136%2C\" role=\"link\" tabindex=\"0\"><div class=\"boxart-container boxart-rounded boxart-size-16x9\"><img alt=\"\" class=\"boxart-image boxart-image-in-padded-container\" src=\"https://occ-0-2484-3663.1.nflxso.net/dnm/api/v6/Qs00mKCpRvrkl3HZAN5KwEL1kpE/AAAABYP7ot_-1by27E5dizYzTe29T511aVgxF3WRJLyBT0fzpDn27BC3ohqnJ1NZNrNj3I6F-zcpRkvgmgV69j6h52XmZRHSCGx80gnXisaHO2A2vlFkIc__DMrnLPDEn6t7zaISeAGQJaboFeBMybkUQpByx3kqbpIA6Ok.webp?r=e58\"/><div aria-hidden=\"true\" class=\"fallback-text-container\"><p class=\"fallback-text\">Vicky Vidya ka Woh Wala Video</p></div></div></a>, <a aria-hidden=\"true\" aria-label=\"Laapataa Ladies\" class=\"slider-refocus\" href=\"/watch/81760391?tctx=3%2C4%2C%2C%2C%2C%2C%2C%2C%2CVideo%3A81760391%2C\" tabindex=\"-1\"><div class=\"boxart-container boxart-rounded boxart-size-16x9\"><img alt=\"\" class=\"boxart-image boxart-image-in-padded-container\" src=\"https://occ-0-2484-3663.1.nflxso.net/dnm/api/v6/Qs00mKCpRvrkl3HZAN5KwEL1kpE/AAAABe9Glv9I_KC7bx1V3VlceLdqYzRM2hQxQXTdIviNbaJkuxXX6k9fgUhrmG4seD6U_5tjAa7kB0FyPZGvcyQNXMAzQY_Qw-VQrVk.webp?r=5ee\"/><div aria-hidden=\"true\" class=\"fallback-text-container\"><p class=\"fallback-text\">Laapataa Ladies</p></div></div></a>, <a aria-hidden=\"true\" aria-label=\"Mad\" class=\"slider-refocus\" href=\"/watch/81678103?tctx=3%2C5%2C%2C%2C%2C%2C%2C%2C%2CVideo%3A81678103%2C\" tabindex=\"-1\"><div class=\"boxart-container boxart-rounded boxart-size-16x9\"><img alt=\"\" class=\"boxart-image boxart-image-in-padded-container\" src=\"https://occ-0-2484-3663.1.nflxso.net/dnm/api/v6/Qs00mKCpRvrkl3HZAN5KwEL1kpE/AAAABXH2h11qJjVC08crDrLFyCNX60IZk2xc7CM6xhCYjbd6CheCmpkKO6Zq6UnTbxz_1DEi0N1ljX11DLDodvRcxESURFyXYSKWJ58.webp?r=232\"/><div aria-hidden=\"true\" class=\"fallback-text-container\"><p class=\"fallback-text\">Mad</p></div></div></a>, <a aria-hidden=\"true\" aria-label=\"Bajrangi Bhaijaan\" class=\"slider-refocus\" href=\"/watch/80065328?tctx=3%2C6%2C%2C%2C%2C%2C%2C%2C%2CVideo%3A80065328%2C\" tabindex=\"-1\"><div class=\"boxart-container boxart-rounded boxart-size-16x9\"><img alt=\"\" class=\"boxart-image boxart-image-in-padded-container\" src=\"https://occ-0-2484-3663.1.nflxso.net/dnm/api/v6/Qs00mKCpRvrkl3HZAN5KwEL1kpE/AAAABSXhcNZNjYf34EWOWvoVAMyVJkELW-plpOMiJ9kbaBkzw9iqwpP_CZnpMLnXOPeFVWkty958iNcaKxEu26UMnEwpxN7t9PrmtcSYU8ZDS641qB5VuAppdrn-At67QTfUGkq_H3HH35kZm3o_k23MSqBNjPQLs79jijP0H_1NpipovFZuJxNhcKMl3QYxrbbBFgbm4CEJMcX6ujjTEwdiP4rrgSXrqq_pq1Ci8Q_j8NSULGTq-JaGYDGKkxi578bjf3tpTqqIaesEPANWH52V5yixtNhD.webp?r=049\"/><div aria-hidden=\"true\" class=\"fallback-text-container\"><p class=\"fallback-text\">Bajrangi Bhaijaan</p></div></div></a>, <a aria-hidden=\"true\" aria-label=\"Yeh Jawaani Hai Deewani\" class=\"slider-refocus\" href=\"/watch/70276515?tctx=3%2C7%2C%2C%2C%2C%2C%2C%2C%2CVideo%3A70276515%2C\" tabindex=\"-1\"><div class=\"boxart-container boxart-rounded boxart-size-16x9\"><img alt=\"\" class=\"boxart-image boxart-image-in-padded-container\" src=\"https://occ-0-2484-3663.1.nflxso.net/dnm/api/v6/Qs00mKCpRvrkl3HZAN5KwEL1kpE/AAAABXUFpmhc0PHt9TsSPk1bX8T3gjPGioYFKJegiM7wBAaI6ss1sr5CmwnkT-GB15ONNaEROx0zJjLsc_OzX8gYrizSSN41ponnNf0.webp?r=902\"/><div aria-hidden=\"true\" class=\"fallback-text-container\"><p class=\"fallback-text\">Yeh Jawaani Hai Deewani</p></div></div></a>, <a class=\"rowTitle ltr-0\" href=\"/browse/m/trending-now\"><div class=\"row-header-title\">Today's Top Picks for You</div><div class=\"aro-row-header more-visible\"><div class=\"see-all-link\">Explore All</div><div class=\"aro-row-chevron icon-akiraCaretRight\"></div></div></a>, <a aria-hidden=\"false\" aria-label=\"Thangalaan\" class=\"slider-refocus\" href=\"/watch/81632727?tctx=4%2C0%2C%2C%2C%2C%2C%2C%2C%2CVideo%3A81632727%2C\" role=\"link\" tabindex=\"0\"><div class=\"boxart-container boxart-rounded boxart-size-16x9\"><img alt=\"\" class=\"boxart-image boxart-image-in-padded-container\" src=\"https://occ-0-2484-3663.1.nflxso.net/dnm/api/v6/Qs00mKCpRvrkl3HZAN5KwEL1kpE/AAAABWCq8GtbpleK4v1bp5RfxCIQGhCCKwh6xOdVUsD9wUFpDlIGeoPSDjavKowI9wxjwzSEj90-Zj6yQn5suYlDK4QEwnwrtKq3fLJdiWDPZ5-41HPW7SvHol8g6mO6b12amUqW3prbj0VOjZYdgU5HRPgSpbh8BgwDecI.webp?r=a21\"/><div aria-hidden=\"true\" class=\"fallback-text-container\"><p class=\"fallback-text\">Thangalaan</p></div></div></a>, <a aria-hidden=\"false\" aria-label=\"Mission: Impossible - Dead Reckoning\" class=\"slider-refocus\" href=\"/watch/81665878?tctx=4%2C1%2C%2C%2C%2C%2C%2C%2C%2CVideo%3A81665878%2C\" role=\"link\" tabindex=\"0\"><div class=\"boxart-container boxart-rounded boxart-size-16x9\"><img alt=\"\" class=\"boxart-image boxart-image-in-padded-container\" src=\"https://occ-0-2484-3663.1.nflxso.net/dnm/api/v6/Qs00mKCpRvrkl3HZAN5KwEL1kpE/AAAABRQmiUztlSOhagQ2Lv_3PrkytuoH4ycGkxw1fL7rUNFX-2LRoNzHVxmYz-Dqjout5slBy8E-dIK4lCrBpHcdYBzVv4XYSPnnNEhY6JmmYTVM1mMEM0PuoLK_xRQUEYNOKSEm7MmkcR3N0c4UgoaYeNhFsygq8eSD0NdaOJKm_CZyeBfUQXYriGIETUsIzdK0cLjeolVUOzZTKDi04Rh8ZlBNrhYiE7urCJHAtuUe3oLaI1yiH9T_ZYhdjp6o-FZBvWr9s1-EVo8rbd7e4f_wgpvy9Eh9q_b6_9wkBJ5z0XwhPtAdQueLX_-kl9jlOXkAmnr2it3jkVRADFX2Tfb2eBA.webp?r=118\"/><div aria-hidden=\"true\" class=\"fallback-text-container\"><p class=\"fallback-text\">Mission: Impossible - Dead Reckoning</p></div></div></a>, <a aria-hidden=\"false\" aria-label=\"Devara\" class=\"slider-refocus\" href=\"/watch/81728598?tctx=4%2C2%2C%2C%2C%2C%2C%2C%2C%2CVideo%3A81728598%2C\" role=\"link\" tabindex=\"0\"><div class=\"boxart-container boxart-rounded boxart-size-16x9\"><img alt=\"\" class=\"boxart-image boxart-image-in-padded-container\" src=\"https://occ-0-2484-3663.1.nflxso.net/dnm/api/v6/Qs00mKCpRvrkl3HZAN5KwEL1kpE/AAAABV7jUvuKldWvrvJL6V2quUHY6tRAmPMpgclVapYieWNVMtg2pNiUuDq1bsD9D5j6F-1PICz8nvXdInj7lzUAyS51FjGuga_9Km3kwQIJg4QlgqDidfzYwYv1w72wfYw7cuwebYxFG68odtaDXE-3iTrTN-68ZtkQ98g.webp?r=7fb\"/><div aria-hidden=\"true\" class=\"fallback-text-container\"><p class=\"fallback-text\">Devara</p></div></div></a>, <a aria-hidden=\"false\" aria-label=\"Castlevania: Nocturne\" class=\"slider-refocus\" href=\"/watch/81436901?tctx=4%2C3%2C%2C%2C%2C%2C%2C%2C%2CVideo%3A81436901%2C\" role=\"link\" tabindex=\"0\"><div class=\"boxart-container boxart-rounded boxart-size-16x9\"><img alt=\"\" class=\"boxart-image boxart-image-in-padded-container\" src=\"https://occ-0-2484-3663.1.nflxso.net/dnm/api/v6/Qs00mKCpRvrkl3HZAN5KwEL1kpE/AAAABZDTBQE8XZNqOwsT_taaoplXujLrsalDhyMc9jjkR6YBg3HYjsYxr5o9Z5SfzkQxSxIq1AUnNexIrx72dXlzWait7y6717I3nViN4BplysfgS-m9gDlynqpqso8aYeOXplwDRpAv5XSESkWj0-MjY09z1rPsazFU1l1oUlFcMMtFJ1mlZzhaDBB0pHBzxNyFPT33uN7MLx_9_qcj1Zm1sFFLKrzXGJ8OtJy1OHbh1ElvqfAqMyh0XQe8jpYe1vPh7jG_xCdE5mu-SXiWEeeWPUG68O4lmJYfDKI1nyck1HXtcZQOI0I.jpg?r=4e9\"/><div aria-hidden=\"true\" class=\"fallback-text-container\"><p class=\"fallback-text\">Castlevania: Nocturne</p></div></div></a>, <a aria-hidden=\"true\" aria-label=\"Y Tu Mamá También\" class=\"slider-refocus\" href=\"/watch/60023237?tctx=4%2C4%2C%2C%2C%2C%2C%2C%2C%2CVideo%3A60023237%2C\" tabindex=\"-1\"><div class=\"boxart-container boxart-rounded boxart-size-16x9\"><img alt=\"\" class=\"boxart-image boxart-image-in-padded-container\" src=\"https://occ-0-2484-3663.1.nflxso.net/dnm/api/v6/Qs00mKCpRvrkl3HZAN5KwEL1kpE/AAAABSa7RDzVDb4b-Ud5xyehrfmOIemxQoknmQTXC-2Qas5P6ddyew91NfoGNNtsLTKZoae0A11NkYcf3ND3hPDnXpmA60mz5yw_Mj46BVE57gxmugA6JjkRTGHN-3pALhJiGXl6mNcxfg23XYMDfCySJJN5YlFmx_iay5XlEKLWWQ80u8VKeW7Ae0YA6nzRw38UgC1SUZE9Krl1HHAFLq-2h1PIvAW04Lt8HHcYIEhxwwt-AxnwY1T2T_Z0QR7vBjIP9_6n0Qo1OaV3wXMuY0LvGRbFbnB1.webp?r=db2\"/><div aria-hidden=\"true\" class=\"fallback-text-container\"><p class=\"fallback-text\">Y Tu Mamá También</p></div></div></a>, <a aria-hidden=\"true\" aria-label=\"The Roshans\" class=\"slider-refocus\" href=\"/watch/81922315?tctx=4%2C5%2C%2C%2C%2C%2C%2C%2C%2CVideo%3A81922315%2C\" tabindex=\"-1\"><div class=\"boxart-container boxart-rounded boxart-size-16x9\"><img alt=\"\" class=\"boxart-image boxart-image-in-padded-container\" src=\"https://occ-0-2484-3663.1.nflxso.net/dnm/api/v6/Qs00mKCpRvrkl3HZAN5KwEL1kpE/AAAABdqGMzAA-cQbPtX2N3gtDCZPxLKt023USo6QwK372UAKbE2cM0uB06dKklwH0wAcEExvLbsOLWs1Lb438kDwbgMmmQJBPdRVkvHCiZBZ62D97DM9CKdpwvafmd6ojbxy8BUgc6iUp_0ShbQN4xFd7fZKM7OV_NNz1ff4egh_cfyBI6HZGowMssEI3fAt7f1qDiPEaGseeR9PCFYQ0ryQSO2wQwFr63a2oVQVcdJy1RsCCy6MebTbdcncVbp97Wi2bKCAQGGGeV_NV0rkUH9ZLDnVTND2o7gzjthrKxvsNrkxDZUCMumXJNgfJV9pfTKqVZB-pvRBh15EAAnQKf6JSNMZzDci6Ge7V2KbiKOXT1CxQacUaCE.jpg?r=777\"/><div aria-hidden=\"true\" class=\"fallback-text-container\"><p class=\"fallback-text\">The Roshans</p></div></div></a>, <a aria-hidden=\"true\" aria-label=\"Kingdom: Return of The Great General\" class=\"slider-refocus\" href=\"/watch/81704690?tctx=4%2C6%2C%2C%2C%2C%2C%2C%2C%2CVideo%3A81704690%2C\" tabindex=\"-1\"><div class=\"boxart-container boxart-rounded boxart-size-16x9\"><img alt=\"\" class=\"boxart-image boxart-image-in-padded-container\" src=\"https://occ-0-2484-3663.1.nflxso.net/dnm/api/v6/Qs00mKCpRvrkl3HZAN5KwEL1kpE/AAAABZUFnYU_Gohvg_dcp41bzDTwlwR-6RDIsE3m0vM83ZP_TEShdQ0jcENIei8WMo_H1t6LvhUvZI9JeZ6fwJGY9s3KrXNM48Dq7wrNa3zn6STK2doWLG8h2FhCSCW0N7Wbucr4_4s43Duzk-iP86sHcM_qvaCTjxyy9reu3x_wZA6P7m-max3XrEE_sWIOqZwNWOVebwUtAV_Uhfko9XgHZ4oqP2vYYP9D_er-qRX7pXb1t5UtisGH95N3cnDkHA6EI6owL4hpH4gE0mZFLxqX6yNxWtWb.webp?r=bf8\"/><div aria-hidden=\"true\" class=\"fallback-text-container\"><p class=\"fallback-text\">Kingdom: Return of The Great General</p></div></div></a>, <a aria-hidden=\"true\" aria-label=\"Amaran\" class=\"slider-refocus\" href=\"/watch/81728596?tctx=4%2C7%2C%2C%2C%2C%2C%2C%2C%2CVideo%3A81728596%2C\" tabindex=\"-1\"><div class=\"boxart-container boxart-rounded boxart-size-16x9\"><img alt=\"\" class=\"boxart-image boxart-image-in-padded-container\" src=\"https://occ-0-2484-3663.1.nflxso.net/dnm/api/v6/Qs00mKCpRvrkl3HZAN5KwEL1kpE/AAAABaCyyKmj3BNOI-iRsrEtgyl1sK54L56iTlVVtFT70ouo-k8dKBMQvUl-FOmCCjkI2sVMVZxJ8_71WbTc-S9Bwircvi5_PcF7jwpBJZdLTQ6e5Oi1ApkHkbVZnNXPXE8ZseHTPMTvsfG9lGaZ4bWXjG2tA3Gjk5ZpqWQ.webp?r=42b\"/><div aria-hidden=\"true\" class=\"fallback-text-container\"><p class=\"fallback-text\">Amaran</p></div></div></a>, <a aria-hidden=\"false\" aria-label=\"Black Warrant\" class=\"slider-refocus\" href=\"/watch/81971071?tctx=5%2C0%2C%2C%2C%2C%2C%2C%2C%2CVideo%3A81971071%2C\" tabindex=\"0\"><div class=\"boxart-container boxart-rounded boxart-size-7x10\"><svg class=\"svg-icon svg-icon-rank-1 top-10-rank\" height=\"100%\" id=\"rank-1\" viewbox=\"-20 0 70 154\" width=\"100%\"><path d=\"M35.377 152H72V2.538L2 19.362v30.341l33.377-8.459V152z\" stroke=\"#595959\" stroke-width=\"4\"></path></svg><img alt=\"\" class=\"boxart-image-in-padded-container\" src=\"https://occ-0-2484-3663.1.nflxso.net/dnm/api/v6/mAcAr9TxZIVbINe88xb3Teg5_OA/AAAABemdcl2Qm768G1OIwZeX4tXCini-kK8AMsSh9U_FZsiilCn_8q0hOhTrqv8zhZ0AnmGsUaWBzMebkbTvbrOceGtkRdYruGSQCCmXeul9leGVqjHxMmdAOXBN6cDkU_lx3aKZaTdvdz9s2Gv42w9w88N9JddjaFg_PQEMh6aSG1AvCpNapfRzGZcNchV3FbQPN-cnZ_g00SVDFzRhFDeHrtcKI50LtKFvPckik5rkDyCxsVWGTa37v5ch7u_YYmfvzusgPmrYuoHwU8pDDyxjnwCeyEkvsJDVzdvn2iSccqNogm8teOzGkrwDwg.jpg?r=503\"/><div aria-hidden=\"true\" class=\"fallback-text-container\"><p class=\"fallback-text\">Black Warrant</p></div></div></a>, <a aria-hidden=\"false\" aria-label=\"XO, Kitty\" class=\"slider-refocus\" href=\"/watch/81324724?tctx=5%2C1%2C%2C%2C%2C%2C%2C%2C%2CVideo%3A81324724%2C\" tabindex=\"0\"><div class=\"boxart-container boxart-rounded boxart-size-7x10\"><svg class=\"svg-icon svg-icon-rank-2 top-10-rank\" height=\"100%\" id=\"rank-2\" viewbox=\"0 0 80 154\" width=\"100%\"><path d=\"M3.72 152H113v-30.174H50.484l4.355-3.55 29.453-24.012c5.088-4.124 9.748-8.459 13.983-13.004 4.16-4.464 7.481-9.339 9.972-14.629 2.449-5.203 3.678-11.113 3.678-17.749 0-9.428-2.294-17.627-6.875-24.645-4.597-7.042-10.941-12.494-19.07-16.376C77.803 3.957 68.496 2 58.036 2 47.591 2 38.37 4.023 30.347 8.06c-8.015 4.032-14.457 9.578-19.352 16.654-4.492 6.493-7.389 13.803-8.693 21.952h34.055c1.236-3.52 3.398-6.52 6.459-8.97 3.54-2.834 8.277-4.224 14.147-4.224 5.93 0 10.552 1.537 13.76 4.681 3.181 3.12 4.791 7.024 4.791 11.594 0 4.151-1.16 7.934-3.468 11.298-2.192 3.194-5.987 7.124-11.405 11.84L3.72 122.465V152z\" stroke=\"#595959\" stroke-width=\"4\"></path></svg><img alt=\"\" class=\"boxart-image-in-padded-container\" src=\"https://occ-0-2484-3663.1.nflxso.net/dnm/api/v6/mAcAr9TxZIVbINe88xb3Teg5_OA/AAAABb_z6QGNlTRUhkEXO0nF3gHrDT_BA29flwzNRkoWfCzXGj8M_vNysMHkN573ckm3RgSrXrS04pQc5r_zgHavb6rmUOwYKRrpiQpqwWZi7hVEF9tF2tKo7vIFTunDQfS6XRKqijISyFqYruTXuAdFQshgtdiGHu_q9a2tVwRP53hmwkdgFU4LNGIM-upvlHbhEpX084ePcFH6LJjvhsyv9w75V04l3zc063-Gccagpx88UtuG0DG-QV0CnL1dMgfbDGoCch3tfLtHA7LMKQp2wnWbteoh6wN7IqsKtnrsG8ZN5fBh1Svc.jpg?r=18c\"/><div aria-hidden=\"true\" class=\"fallback-text-container\"><p class=\"fallback-text\">XO, Kitty</p></div></div></a>, <a aria-hidden=\"false\" aria-label=\"The Roshans\" class=\"slider-refocus\" href=\"/watch/81922315?tctx=5%2C2%2C%2C%2C%2C%2C%2C%2C%2CVideo%3A81922315%2C\" tabindex=\"0\"><div class=\"boxart-container boxart-rounded boxart-size-7x10\"><svg class=\"svg-icon svg-icon-rank-3 top-10-rank\" height=\"100%\" id=\"rank-3\" viewbox=\"0 0 80 154\" width=\"100%\"><path d=\"M3.809 41.577h33.243c1.3-2.702 3.545-4.947 6.674-6.72 3.554-2.015 7.83-3.01 12.798-3.01 5.555 0 10.14 1.11 13.723 3.376 3.839 2.427 5.782 6.283 5.782 11.315 0 4.553-1.853 8.395-5.473 11.38-3.547 2.926-8.18 4.37-13.821 4.37H41.44v28.366h16.77c5.572 0 10.275 1.227 14.068 3.711 4.02 2.633 6.071 6.581 6.071 11.616 0 5.705-1.943 9.975-5.853 12.562-3.658 2.42-8.292 3.61-13.863 3.61-5.205 0-9.82-.94-13.827-2.836-3.698-1.75-6.32-4.272-7.785-7.529H2.33c2.096 12.089 7.761 21.65 17.028 28.78C29.242 148.175 42.594 152 59.476 152c10.706 0 20.175-1.783 28.42-5.337 8.185-3.528 14.575-8.486 19.208-14.884 4.595-6.346 6.896-13.938 6.896-22.837 0-6.952-1.93-13.494-5.81-19.666-3.815-6.07-9.68-10.367-17.683-12.908l-5.46-1.735 5.353-2.04c6.659-2.538 11.667-6.338 15.083-11.412 3.431-5.096 5.142-10.806 5.142-17.181 0-8.471-2.262-15.778-6.787-21.985-4.574-6.275-10.7-11.17-18.408-14.696C77.683 3.775 69.109 2 59.687 2 44.084 2 31.515 5.816 21.91 13.415c-9 7.119-15.025 16.486-18.101 28.162z\" stroke=\"#595959\" stroke-width=\"4\"></path></svg><img alt=\"\" class=\"boxart-image-in-padded-container\" src=\"https://occ-0-2484-3663.1.nflxso.net/dnm/api/v6/mAcAr9TxZIVbINe88xb3Teg5_OA/AAAABSdjtOh0fGazLDqhBGX8PaUeHD-ZUWP5I15xZ5wXlLK70APEJmke2DdblZVv7YUFQkbFYZYOVTuCTZUqapsfE_V1aTPNypF89w2XN4A66qxLl-K648b6iqbAhozOKDD9jJwmAmgii8Te4IWHNw7ELxDxCumtsObJASuJCuBwTfpclULm1pyBe9GSjUdk-7rP1PLEqzzytl_qoyXeSfaQxmzfT8OY0k8nLkwfKDEYbFIwjHDgno7jfx86cFU24IlfDLEqp9W04HtcK9X8QMniS7ynOiFWn1UgbocxTHe6MIJ9bl2k9WJX76TwvQ.jpg?r=833\"/><div aria-hidden=\"true\" class=\"fallback-text-container\"><p class=\"fallback-text\">The Roshans</p></div></div></a>, <a aria-hidden=\"false\" aria-label=\"Squid Game\" class=\"slider-refocus\" href=\"/watch/81040344?tctx=5%2C3%2C%2C%2C%2C%2C%2C%2C%2CVideo%3A81040344%2C\" tabindex=\"0\"><div class=\"boxart-container boxart-rounded boxart-size-7x10\"><svg class=\"svg-icon svg-icon-rank-4 top-10-rank\" height=\"100%\" id=\"rank-4\" viewbox=\"0 0 81 154\" width=\"100%\"><path d=\"M72 152h35.333v-30.977H128V92.497h-20.667V2H69.89L2 92.712v28.311h70V152zM36.202 92.188l35.93-47.998v47.998h-35.93z\" stroke=\"#595959\" stroke-width=\"4\"></path></svg><img alt=\"\" class=\"boxart-image-in-padded-container\" src=\"https://occ-0-2484-3663.1.nflxso.net/dnm/api/v6/mAcAr9TxZIVbINe88xb3Teg5_OA/AAAABZyiKJW2v6Yf-NuqckCxLBykJUTlyG_Yysg-UNNWQ2nFBaEiReygim61C2bcx6dUWBCydjvTpW1jXvGWhDPl-QzgUnbk-ZGVuoiJzU84KvnwpKeS8Wo3euGgav6oiVT0zyhz0mZFGBL9naH5UN1RgkqUhVfaqoDBi20B4c1e372pZaFAFXZVB-IsryQppDOt4wG3GKNFkLOkbhtF68I8Ap42WKN6AKa451VEpdcoFOiiJHVSh4wYWqxKmvgK04C60nSl7BK6LFfkTwhKfJMZkPAN0bH6EMtCa67MbB-9ooIKF2QP9ZzA.jpg?r=6c7\"/><div aria-hidden=\"true\" class=\"fallback-text-container\"><p class=\"fallback-text\">Squid Game</p></div></div></a>, <a aria-hidden=\"true\" aria-label=\"SAKAMOTO DAYS\" class=\"slider-refocus\" href=\"/watch/81663325?tctx=5%2C4%2C%2C%2C%2C%2C%2C%2C%2CVideo%3A81663325%2C\" tabindex=\"-1\"><div class=\"boxart-container boxart-rounded boxart-size-7x10\"><svg class=\"svg-icon svg-icon-rank-5 top-10-rank\" height=\"100%\" id=\"rank-5\" viewbox=\"0 0 81 154\" width=\"100%\"><path d=\"M105.588 32.174V2H13.534l-8.3 88.357h32.463c2.145-2.362 4.866-4.254 8.143-5.675 3.585-1.554 7.543-2.328 11.859-2.328 6.247 0 11.418 1.745 15.418 5.255 4.061 3.564 6.104 8.37 6.104 14.265 0 6.041-2.044 10.89-6.121 14.387-3.999 3.43-9.162 5.132-15.401 5.132-4.299 0-8.17-.694-11.601-2.095-3.11-1.268-5.577-2.946-7.368-5.042H2.592c3.308 11.593 9.782 20.623 19.46 27.164C32.472 148.464 45.64 152 61.602 152c10.12 0 19.294-1.99 27.548-5.966 8.198-3.949 14.711-9.718 19.572-17.335 4.844-7.59 7.278-16.95 7.278-28.123 0-9.182-2.013-17.314-6.032-24.431-4.02-7.118-9.514-12.7-16.51-16.775-6.99-4.072-14.849-6.109-23.612-6.109-11.06 0-20.099 3.483-27.234 10.461l-3.892 3.806 3.273-35.354h63.595z\" stroke=\"#595959\" stroke-width=\"4\"></path></svg><img alt=\"\" class=\"boxart-image-in-padded-container\" src=\"https://occ-0-2484-3663.1.nflxso.net/dnm/api/v6/mAcAr9TxZIVbINe88xb3Teg5_OA/AAAABWy4gXRD5noHVPH6Hsk2gHHjhGalN4F27dEg8UbTniNqfBQBgxqjDx-5h8ytlVdeKe3iibNHcpqELD50OQi32cyVJ5MZLs01Ud3KYftfM103z1B0GxaRBVAfQViAHz2Rg5MS7D7snrvo84h4C32uifMFvW04Ay842flpRTW5SkgezYis0lcI8HRKuMKHYMuyvOq24UDOchXCoxxa4fV98duLKBG6DgnVip0Mxc5wvYT2StLAs78HS4xNz8wZStT0f9iwtzLf2RjCpv1uH9BgXOc1m-wqAU5Vujd67MfIbjAPO9j0o_HujINzpVRBqCnalVDFeVXYUoOTRenOk5rnk6HUUpu6eSqzltBmA0_urxPNQibrFjgM7f6PpOFn3QMVwMCgnYewGDmuM6zCktpsynjL92EVGn4e-Osq0lhg-lLMQ28F2tyDQPHkY916pNUE54skMOayIA.jpg?r=349\"/><div aria-hidden=\"true\" class=\"fallback-text-container\"><p class=\"fallback-text\">SAKAMOTO DAYS</p></div></div></a>, <a aria-hidden=\"true\" aria-label=\"Single’s Inferno\" class=\"slider-refocus\" href=\"/watch/81436209?tctx=5%2C5%2C%2C%2C%2C%2C%2C%2C%2CVideo%3A81436209%2C\" tabindex=\"-1\"><div class=\"boxart-container boxart-rounded boxart-size-7x10\"><svg class=\"svg-icon svg-icon-rank-6 top-10-rank\" height=\"100%\" id=\"rank-6\" viewbox=\"0 0 81 154\" width=\"100%\"><path d=\"M79.482 38.192h35.551c-3.284-10.945-8.963-19.573-17.048-25.938C89.323 5.434 77.531 2 62.545 2 50.756 2 40.35 4.86 31.277 10.577c-9.064 5.712-16.198 14.09-21.412 25.178C4.63 46.893 2 60.425 2 76.365c0 14.416 2.356 27.344 7.059 38.798 4.667 11.368 11.573 20.34 20.734 26.956C38.904 148.7 50.225 152 63.816 152a61.513 61.513 0 0019.922-3.278 53.546 53.546 0 0017.378-9.792c5.154-4.33 9.255-9.64 12.314-15.947 3.042-6.273 4.57-13.556 4.57-21.868 0-8.812-2.062-16.636-6.182-23.51-4.134-6.897-9.643-12.293-16.55-16.212-6.905-3.917-14.48-5.874-22.76-5.874-14.546 0-25.34 4.55-32.569 13.63l-4.003 5.03.443-6.413c.874-12.636 3.56-21.85 8.168-27.654 4.69-5.907 10.885-8.9 18.421-8.9 4.26 0 7.826.734 10.685 2.24 2.445 1.287 4.396 2.867 5.829 4.74zM62.605 123c-5.825 0-10.902-1.894-15.136-5.655C43.173 113.528 41 108.603 41 102.71c0-5.881 2.164-10.864 6.44-14.818C51.674 83.975 56.762 82 62.604 82c5.847 0 10.906 1.98 15.074 5.905C81.878 91.859 84 96.837 84 102.71c0 5.885-2.131 10.805-6.35 14.622-4.167 3.77-9.214 5.668-15.045 5.668z\" stroke=\"#595959\" stroke-width=\"4\"></path></svg><img alt=\"\" class=\"boxart-image-in-padded-container\" src=\"https://occ-0-2484-3663.1.nflxso.net/dnm/api/v6/mAcAr9TxZIVbINe88xb3Teg5_OA/AAAABT1S-7f0bHUvaAb8PjdKCsScziFOX8W2n6Wrjg_ZDL3ArV8wl4dcQ5BUTco6OakwuWD8oV0LmFFzNArsZoJ3HxEYLGoZQlbWf-qd0PR7o3LDaVgKg9AO4W2Cx41l9deK8dGbBscafGDTH8PDfhJmv3kjBntN94J9qDIznMWkIFsvpaIR4im4OBVt4cvIqy32Vufp8s03s2jAcQdviNw7JXuZTCtW9HviACggc5H9X4jlIhHGVqbF9550euLE1ozCTYmf9TaUq_XPf87OgU9qibM481v5Xn7dfigFeQEO_UlzHA9dkIFa.jpg?r=4b1\"/><div aria-hidden=\"true\" class=\"fallback-text-container\"><p class=\"fallback-text\">Single’s Inferno</p></div></div></a>, <a aria-hidden=\"true\" aria-label=\"Alice in Borderland\" class=\"slider-refocus\" href=\"/watch/80200575?tctx=5%2C6%2C%2C%2C%2C%2C%2C%2C%2CVideo%3A80200575%2C\" tabindex=\"-1\"><div class=\"boxart-container boxart-rounded boxart-size-7x10\"><svg class=\"svg-icon svg-icon-rank-7 top-10-rank\" height=\"100%\" id=\"rank-7\" viewbox=\"0 0 78 154\" width=\"100%\"><path d=\"M113,2 L2,2 L2,33.4022989 L75.9665929,33.4022989 L21.22571,152 L60.28102,152 L113,32.7672283 L113,2 Z\" stroke=\"#595959\" stroke-width=\"4\"></path></svg><img alt=\"\" class=\"boxart-image-in-padded-container\" src=\"https://occ-0-2484-3663.1.nflxso.net/dnm/api/v6/mAcAr9TxZIVbINe88xb3Teg5_OA/AAAABU4RnNCAQaStOI6Ib3oEYc7SKOYtdHxzWuTP8Zcom1gIRf4bu6APHklpJA08GBPg40FSIWmEEpFqpsBuAP25opM_GztuIIIflS9_iUdD0QCIWaaBYfg_t_RLinLcJnNbe5u0uA.jpg?r=13a\"/><div aria-hidden=\"true\" class=\"fallback-text-container\"><p class=\"fallback-text\">Alice in Borderland</p></div></div></a>, <a aria-hidden=\"true\" aria-label=\"Mismatched\" class=\"slider-refocus\" href=\"/watch/80220079?tctx=5%2C7%2C%2C%2C%2C%2C%2C%2C%2CVideo%3A80220079%2C\" tabindex=\"-1\"><div class=\"boxart-container boxart-rounded boxart-size-7x10\"><svg class=\"svg-icon svg-icon-rank-8 top-10-rank\" height=\"100%\" id=\"rank-8\" viewbox=\"0 0 77 154\" width=\"100%\"><path d=\"M59.5 152c11.335 0 21.358-1.72 30.077-5.15 8.637-3.397 15.361-8.258 20.213-14.586 4.805-6.267 7.21-13.876 7.21-22.899 0-7.326-2.261-14.07-6.813-20.29-4.548-6.214-10.837-10.658-18.922-13.35l-5.4-1.799 5.338-1.975c7.238-2.678 12.572-6.683 16.066-12.018 3.53-5.388 5.284-11.178 5.284-17.414 0-7.912-2.133-14.839-6.405-20.84-4.3-6.042-10.403-10.825-18.345-14.351C79.816 3.78 70.386 2 59.5 2S39.184 3.781 31.197 7.328c-7.942 3.526-14.044 8.309-18.345 14.351-4.272 6.001-6.405 12.928-6.405 20.84 0 6.236 1.755 12.026 5.284 17.414 3.494 5.335 8.828 9.34 16.066 12.018l5.338 1.975-5.4 1.798c-8.085 2.693-14.374 7.137-18.922 13.351C4.261 95.295 2 102.04 2 109.365c0 9.023 2.405 16.632 7.21 22.899 4.852 6.328 11.576 11.19 20.213 14.586 8.72 3.43 18.742 5.15 30.077 5.15zm.5-89c-5.6 0-10.334-1.515-14.125-4.56C41.985 55.313 40 51.183 40 46.21c0-5.244 1.976-9.518 5.875-12.65C49.666 30.515 54.4 29 60 29s10.334 1.515 14.125 4.56C78.025 36.694 80 40.968 80 46.212c0 4.973-1.985 9.103-5.875 12.228C70.334 61.485 65.6 63 60 63zm-.5 62c-6.255 0-11.556-1.613-15.836-4.856-4.41-3.343-6.664-7.816-6.664-13.25 0-5.298 2.258-9.698 6.664-13.038C47.944 90.613 53.245 89 59.5 89c6.255 0 11.556 1.613 15.836 4.856 4.406 3.34 6.664 7.74 6.664 13.038 0 5.434-2.254 9.907-6.664 13.25C71.056 123.387 65.755 125 59.5 125z\" stroke=\"#595959\" stroke-width=\"4\"></path></svg><img alt=\"\" class=\"boxart-image-in-padded-container\" src=\"https://occ-0-2484-3663.1.nflxso.net/dnm/api/v6/mAcAr9TxZIVbINe88xb3Teg5_OA/AAAABf4Exb9oOTFsQmO8HI8PkJT79zilWNS5R79VmGDm52X92nmGoFvx8sGDvjTS4-Y1FFRR4or-iOpsyF9nmQUOaGp_T4cRYT4kIgPqKx1RIrIClJGH9BHCIJKXoKZrclQiTGNUfw.jpg?r=061\"/><div aria-hidden=\"true\" class=\"fallback-text-container\"><p class=\"fallback-text\">Mismatched</p></div></div></a>, <a aria-hidden=\"false\" aria-label=\"GTA: San Andreas - The Definitive Edition\" class=\"slider-refocus\" href=\"/play-game/81697077\" role=\"link\" tabindex=\"0\"><div class=\"boxart-container boxart-rounded boxart-size-1x1 boxart-rounded--mobile-game\"><img alt=\"\" class=\"boxart-image boxart-image-in-padded-container\" src=\"https://occ-0-2484-3663.1.nflxso.net/dnm/api/v6/FAdyJ-pKQrNhPN2xRQbJ1Jp_6yE/AAAABWsJ5Mn1WgXYnSHhbsfntRaSLrjGx03QWgbNttQh0PMzZY4pMr-2zA6Wcz8CBwSSij3YFGLiT9fRvvDv5rFFsjTrw1Df_DtocJy1GmwYZ_Vqc3_VohOZdzN1WyT-VUkUHyRlSw.png?r=ee1\"/><div aria-hidden=\"true\" class=\"fallback-text-container\"><p class=\"fallback-text\">GTA: San Andreas - The Definitive Edition</p></div></div><span class=\"mobile-game-title ltr-1novszc\">GTA: San Andreas - The Definitive Edition</span></a>, <a aria-hidden=\"false\" aria-label=\"Raji: An Ancient Epic\" class=\"slider-refocus\" href=\"/play-game/81569945\" role=\"link\" tabindex=\"0\"><div class=\"boxart-container boxart-rounded boxart-size-1x1 boxart-rounded--mobile-game\"><img alt=\"\" class=\"boxart-image boxart-image-in-padded-container\" src=\"https://occ-0-2484-3663.1.nflxso.net/dnm/api/v6/FAdyJ-pKQrNhPN2xRQbJ1Jp_6yE/AAAABX5rjLFmK77J6L8qrdYcJPIcpt87wbxE0zsqKkzq5KqAjdAd1t8Jbp_atXDOOKegxDLzKC34avnpMKQcRXj63m0VTP7PK-JgmNTbxaH5_98GheG9jyR74WqzsftKyib40QPyxw.png?r=750\"/><div aria-hidden=\"true\" class=\"fallback-text-container\"><p class=\"fallback-text\">Raji: An Ancient Epic</p></div></div><span class=\"mobile-game-title ltr-1novszc\">Raji: An Ancient Epic</span></a>, <a aria-hidden=\"false\" aria-label=\"Into the Dead 2: Unleashed\" class=\"slider-refocus\" href=\"/play-game/81557928\" role=\"link\" tabindex=\"0\"><div class=\"boxart-container boxart-rounded boxart-size-1x1 boxart-rounded--mobile-game\"><img alt=\"\" class=\"boxart-image boxart-image-in-padded-container\" src=\"https://occ-0-2484-3663.1.nflxso.net/dnm/api/v6/FAdyJ-pKQrNhPN2xRQbJ1Jp_6yE/AAAABSXjRYFmH0ryTN6ATQ_7-F8UNgqs6qRGycn_scslUh6PVZVma-0ryeM1-9f6KkJeMOr9VfPVMZHUhkcAG8FxBLW4Dt1tr0MjKc67ChjugF41u2tuo-Rxnv9qt_Jjaa7dbIg5wQ.png?r=0f7\"/><div aria-hidden=\"true\" class=\"fallback-text-container\"><p class=\"fallback-text\">Into the Dead 2: Unleashed</p></div></div><span class=\"mobile-game-title ltr-1novszc\">Into the Dead 2: Unleashed</span></a>, <a aria-hidden=\"false\" aria-label=\"Snake.io\" class=\"slider-refocus\" href=\"/play-game/81720311\" role=\"link\" tabindex=\"0\"><div class=\"boxart-container boxart-rounded boxart-size-1x1 boxart-rounded--mobile-game\"><img alt=\"\" class=\"boxart-image boxart-image-in-padded-container\" src=\"https://occ-0-2484-3663.1.nflxso.net/dnm/api/v6/FAdyJ-pKQrNhPN2xRQbJ1Jp_6yE/AAAABeqtqa5GDjj5N4VrJ9lgxWwxUcsnXRnH3SRCA-aXlAhp1SG_nuV7aWnhCDISxDN369boEUS1IaC0baa_QEKQcOuy3mPzfZZynLHYfkSki4ig2Gxnx9Zjx-NGvWaDLDhcYmWTSw.png?r=f84\"/><div aria-hidden=\"true\" class=\"fallback-text-container\"><p class=\"fallback-text\">Snake.io</p></div></div><span class=\"mobile-game-title ltr-1novszc\">Snake.io</span></a>, <a aria-hidden=\"false\" aria-label=\"Asphalt Xtreme\" class=\"slider-refocus\" href=\"/play-game/81509222\" role=\"link\" tabindex=\"0\"><div class=\"boxart-container boxart-rounded boxart-size-1x1 boxart-rounded--mobile-game\"><img alt=\"\" class=\"boxart-image boxart-image-in-padded-container\" src=\"https://occ-0-2484-3663.1.nflxso.net/dnm/api/v6/FAdyJ-pKQrNhPN2xRQbJ1Jp_6yE/AAAABZLLMAjB1dooCFOKZQo3gj0jxjfo1CsDGAV_Ro0F9PI14K6f_1NVoGRtwdPi9K3jG_Y21dQeDy9a7AoGb1AWc7l5aral0NxeQXuGY79kGqjlDuT_DWit2GJSoDLI41uonHNNqA.png?r=583\"/><div aria-hidden=\"true\" class=\"fallback-text-container\"><p class=\"fallback-text\">Asphalt Xtreme</p></div></div><span class=\"mobile-game-title ltr-1novszc\">Asphalt Xtreme</span></a>, <a aria-hidden=\"true\" aria-label=\"Farming Simulator 23\" class=\"slider-refocus\" href=\"/play-game/81636736\" tabindex=\"-1\"><div class=\"boxart-container boxart-rounded boxart-size-1x1 boxart-rounded--mobile-game\"><img alt=\"\" class=\"boxart-image boxart-image-in-padded-container\" src=\"https://occ-0-2484-3663.1.nflxso.net/dnm/api/v6/FAdyJ-pKQrNhPN2xRQbJ1Jp_6yE/AAAABd_ppWP6l_-eIP9LVkX5Q_EW5tKDFXEIR78FcxAMrx8qiHDEFI6H1VLy2h830ED-gFH6lvt-hiq0QC5PV2Q-9rtQYDxx6sNOxUYmfBFvLxdgKwzicev25qhzsdODcaUCKVG_Iw.png?r=c26\"/><div aria-hidden=\"true\" class=\"fallback-text-container\"><p class=\"fallback-text\">Farming Simulator 23</p></div></div><span class=\"mobile-game-title ltr-1novszc\">Farming Simulator 23</span></a>, <a aria-hidden=\"true\" aria-label=\"Monument Valley 3\" class=\"slider-refocus\" href=\"/play-game/81664652\" tabindex=\"-1\"><div class=\"boxart-container boxart-rounded boxart-size-1x1 boxart-rounded--mobile-game\"><img alt=\"\" class=\"boxart-image boxart-image-in-padded-container\" src=\"https://occ-0-2484-3663.1.nflxso.net/dnm/api/v6/FAdyJ-pKQrNhPN2xRQbJ1Jp_6yE/AAAABRnVHw2LCf2_t6IIHlu2pQu_3YxfJ_aLM2Ay1bsf_AK1z5CRVRN7IwIcty-S2IT_fKmgi06hojRrOiyjr23wT6qMAMjOul6UMTDT7i0-8pG-LkXISSjdIzlgihZGJ8ijkaGpmw.png?r=fc4\"/><div aria-hidden=\"true\" class=\"fallback-text-container\"><p class=\"fallback-text\">Monument Valley 3</p></div></div><span class=\"mobile-game-title ltr-1novszc\">Monument Valley 3</span></a>, <a aria-hidden=\"true\" aria-label=\"Monument Valley\" class=\"slider-refocus\" href=\"/play-game/81670903\" tabindex=\"-1\"><div class=\"boxart-container boxart-rounded boxart-size-1x1 boxart-rounded--mobile-game\"><img alt=\"\" class=\"boxart-image boxart-image-in-padded-container\" src=\"https://occ-0-2484-3663.1.nflxso.net/dnm/api/v6/FAdyJ-pKQrNhPN2xRQbJ1Jp_6yE/AAAABbKl75zkWsv1C_dnoOxI-HXB-1MoRp6nJ3HWkY-qQgOYhX38KvcCgeVzTmW6EKuNYH7RcI-OlQ_tDBPTuvlTqO3RX1dizMAWhRnCCLapNNdFM0EZJej6oVL4sRthDjEVeO7IKQ.png?r=4fb\"/><div aria-hidden=\"true\" class=\"fallback-text-container\"><p class=\"fallback-text\">Monument Valley</p></div></div><span class=\"mobile-game-title ltr-1novszc\">Monument Valley</span></a>, <a class=\"rowTitle ltr-0\" href=\"/browse/m/genre/2638104\"><div class=\"row-header-title\">K-Dramas</div><div class=\"aro-row-header more-visible\"><div class=\"see-all-link\">Explore All</div><div class=\"aro-row-chevron icon-akiraCaretRight\"></div></div></a>, <a aria-hidden=\"false\" aria-label=\"The 8 Show\" class=\"slider-refocus\" href=\"/watch/81719583?tctx=7%2C0%2C%2C%2C%2C%2C%2C%2C%2CVideo%3A81719583%2C\" role=\"link\" tabindex=\"0\"><div class=\"boxart-container boxart-rounded boxart-size-16x9\"><img alt=\"\" class=\"boxart-image boxart-image-in-padded-container\" src=\"https://occ-0-2484-3663.1.nflxso.net/dnm/api/v6/Qs00mKCpRvrkl3HZAN5KwEL1kpE/AAAABYnrGbEoSyCjOVD5mSJnlGMunsQuPkPqGrwCx4ipy4Fo5gRnuzzvjkUVjFmHAhwLc751LYMv-inJtsuRCmHw4OrflLB35hO9UzGse-QCJCtQuahz534ODG5dCJsLXCIntUfV.jpg?r=fa8\"/><div aria-hidden=\"true\" class=\"fallback-text-container\"><p class=\"fallback-text\">The 8 Show</p></div></div></a>, <a aria-hidden=\"false\" aria-label=\"All of Us Are Dead\" class=\"slider-refocus\" href=\"/watch/81237994?tctx=7%2C1%2C%2C%2C%2C%2C%2C%2C%2CVideo%3A81237994%2C\" role=\"link\" tabindex=\"0\"><div class=\"boxart-container boxart-rounded boxart-size-16x9\"><img alt=\"\" class=\"boxart-image boxart-image-in-padded-container\" src=\"https://occ-0-2484-3663.1.nflxso.net/dnm/api/v6/Qs00mKCpRvrkl3HZAN5KwEL1kpE/AAAABT-ZQ77qmGOguna2-9waq2eigg3BsrP58pfhhbUbkexzVQJT-9UOvqKJbbMtM2bTADnGx9Yp53WwWaBWfMq1ISMW51b5agL-MSxjJsbUzO7Tlr7vBNyPDaMzn2q4Fs26l1Qv.jpg?r=741\"/><div aria-hidden=\"true\" class=\"fallback-text-container\"><p class=\"fallback-text\">All of Us Are Dead</p></div></div></a>, <a aria-hidden=\"false\" aria-label=\"Queen of Tears\" class=\"slider-refocus\" href=\"/watch/81707950?tctx=7%2C2%2C%2C%2C%2C%2C%2C%2C%2CVideo%3A81707950%2C\" role=\"link\" tabindex=\"0\"><div class=\"boxart-container boxart-rounded boxart-size-16x9\"><img alt=\"\" class=\"boxart-image boxart-image-in-padded-container\" src=\"https://occ-0-2484-3663.1.nflxso.net/dnm/api/v6/Qs00mKCpRvrkl3HZAN5KwEL1kpE/AAAABcxCQdF4J7ALY1V5g0l1K47xU7NYuqARLbWncXBC3oVkiRl3YeMOEHebsOZJKCu04j_CPSwyfPsEqkvd-ctp9xxpNPxmTFrP0upaPRcPCiKCmgNAQOJWK7qe-Bmh1OlwCwky.jpg?r=3bc\"/><div aria-hidden=\"true\" class=\"fallback-text-container\"><p class=\"fallback-text\">Queen of Tears</p></div></div></a>, <a aria-hidden=\"false\" aria-label=\"Sweet Home\" class=\"slider-refocus\" href=\"/watch/81061734?tctx=7%2C3%2C%2C%2C%2C%2C%2C%2C%2CVideo%3A81061734%2C\" role=\"link\" tabindex=\"0\"><div class=\"boxart-container boxart-rounded boxart-size-16x9\"><img alt=\"\" class=\"boxart-image boxart-image-in-padded-container\" src=\"https://occ-0-2484-3663.1.nflxso.net/dnm/api/v6/Qs00mKCpRvrkl3HZAN5KwEL1kpE/AAAABauQH2jkttOBD7XULeJ2CfgSy9nEYAg4ITpUiyROn2xilIsuNM9zPRCYWLH1PWTlT15GOnHejUEIC0iOnaI8phvr7R9Qst2f1ztVxUzfHV-jq0mGnuefNTtDn1U9HbPJJ66V.jpg?r=f61\"/><div aria-hidden=\"true\" class=\"fallback-text-container\"><p class=\"fallback-text\">Sweet Home</p></div></div></a>, <a aria-hidden=\"true\" aria-label=\"Vincenzo\" class=\"slider-refocus\" href=\"/watch/81365087?tctx=7%2C4%2C%2C%2C%2C%2C%2C%2C%2CVideo%3A81365087%2C\" tabindex=\"-1\"><div class=\"boxart-container boxart-rounded boxart-size-16x9\"><img alt=\"\" class=\"boxart-image boxart-image-in-padded-container\" src=\"https://occ-0-2484-3663.1.nflxso.net/dnm/api/v6/Qs00mKCpRvrkl3HZAN5KwEL1kpE/AAAABfJ8toPgqcdsCPrvZQZeKE5Y53IuASQYNt-7FyEp9OWqO_u1sa8_pAmv0wq_qijlax-F9VR9WvUDI6KgW16CwEU1m3oTr74SLMIJPT4IAuomhl97DtJC68b0-1tJKDAGsTYO.jpg?r=b5d\"/><div aria-hidden=\"true\" class=\"fallback-text-container\"><p class=\"fallback-text\">Vincenzo</p></div></div></a>, <a aria-hidden=\"true\" aria-label=\"Bloodhounds\" class=\"slider-refocus\" href=\"/watch/81444051?tctx=7%2C5%2C%2C%2C%2C%2C%2C%2C%2CVideo%3A81444051%2C\" tabindex=\"-1\"><div class=\"boxart-container boxart-rounded boxart-size-16x9\"><img alt=\"\" class=\"boxart-image boxart-image-in-padded-container\" src=\"https://occ-0-2484-3663.1.nflxso.net/dnm/api/v6/Qs00mKCpRvrkl3HZAN5KwEL1kpE/AAAABdgzd-qDTW-wijUOhdYDJVupaoznG9aqG5NV1aE7qtTlvwOUiHaAVy5JExMyeptWZd9ZQ1EW6sLaa4uMLMH6270bL2fIulDrHtj-ifuMoxskoNOkG1rdrafW03aF_OBp3AKu.jpg?r=3ec\"/><div aria-hidden=\"true\" class=\"fallback-text-container\"><p class=\"fallback-text\">Bloodhounds</p></div></div></a>, <a aria-hidden=\"true\" aria-label=\"When the Phone Rings\" class=\"slider-refocus\" href=\"/watch/81912961?tctx=7%2C6%2C%2C%2C%2C%2C%2C%2C%2CVideo%3A81912961%2C\" tabindex=\"-1\"><div class=\"boxart-container boxart-rounded boxart-size-16x9\"><img alt=\"\" class=\"boxart-image boxart-image-in-padded-container\" src=\"https://occ-0-2484-3663.1.nflxso.net/dnm/api/v6/Qs00mKCpRvrkl3HZAN5KwEL1kpE/AAAABQ0rBixW3RuRS0Mhq2fFCEkfb-6S79oAqFpEwg1v6oEKzSXaNa9Hu1za6BdTOTBwINoc0dVu5wwwgO7XLOYNyFqofAbRwa98sF082O7r-wkLJa7HUyxDgivoz8FlgTDv6-C-gstFOSdEnqEeD_ELTwgb8Xk5YelliYPWu3qHlSTJ0KKDRa4CvLWIVoUwA6aHXLIhln9ntgfrr8_QYJ4Harkg9Dhw3_E4YFWb4Y8TWblq3GJit9EftbtmolKR0Uf3hVRsZ1UM-RUKZErrhTgM1KgAkJ2CSGi8EpNKpo399oXrx-PzxVJVncowzrCkvPUL5eFht_zZd_aBEOkAgogcFKNsGHEpk7T7qS_IedJ3wY5LuDYKipkOaV2KQA5axiVvKVjVRA7oSQx2Iv-PHY646rgZ3dde9BPpUFJpYzCXi0e9lG_U_uSTuxFXC1dybPmeqk8SH7TX.jpg?r=6ff\"/><div aria-hidden=\"true\" class=\"fallback-text-container\"><p class=\"fallback-text\">When the Phone Rings</p></div></div></a>, <a aria-hidden=\"true\" aria-label=\"Gyeongseong Creature\" class=\"slider-refocus\" href=\"/watch/81618079?tctx=7%2C7%2C%2C%2C%2C%2C%2C%2C%2CVideo%3A81618079%2C\" tabindex=\"-1\"><div class=\"boxart-container boxart-rounded boxart-size-16x9\"><img alt=\"\" class=\"boxart-image boxart-image-in-padded-container\" src=\"https://occ-0-2484-3663.1.nflxso.net/dnm/api/v6/Qs00mKCpRvrkl3HZAN5KwEL1kpE/AAAABT8HqXvjfmPVS1OasD2WfCJcaWXwwlQ0t_nlZZKw7LKQSvTM-Qx5lnHuOL0_aXYmo4umdbRW8GWq1iUujS8pyOrfuPN8vr4VqPBsw178k5AOMztjzLNCzrjF7vin1parVIWf.jpg?r=4a6\"/><div aria-hidden=\"true\" class=\"fallback-text-container\"><p class=\"fallback-text\">Gyeongseong Creature</p></div></div></a>, <a aria-hidden=\"false\" aria-label=\"Back in Action\" class=\"slider-refocus\" href=\"/watch/81307099?tctx=8%2C0%2C%2C%2C%2C%2C%2C%2C%2CVideo%3A81307099%2C\" tabindex=\"0\"><div class=\"boxart-container boxart-rounded boxart-size-7x10\"><svg class=\"svg-icon svg-icon-rank-1 top-10-rank\" height=\"100%\" id=\"rank-1\" viewbox=\"-20 0 70 154\" width=\"100%\"><path d=\"M35.377 152H72V2.538L2 19.362v30.341l33.377-8.459V152z\" stroke=\"#595959\" stroke-width=\"4\"></path></svg><img alt=\"\" class=\"boxart-image-in-padded-container\" src=\"https://occ-0-2484-3663.1.nflxso.net/dnm/api/v6/mAcAr9TxZIVbINe88xb3Teg5_OA/AAAABaPTEg8B-n-__MyrUGPJG4bwfL_hI3E49K-PXYUK1uiSi8DpMaoO_r_7-jdAAiZm9ilxboqQDrvcIBQgazP-hpNp6s8vyQO13ECIlFzeJ9V88ZyV5VvRUEIB18di3qYhcglPYxcDLGJUFZxue6wb36Tl57athICTBBtXIl7hTEtobj87lfKht73gkQ949PNFWuyZhltiJsfqw1bXfa4zzg6SaZhhj3Ky3OTW44o7zHgnCZwab9r4-9SB4DD-QJtjRQG8qUSIveDu441k3K_k03-6VrdN03eO1YLVnGT4OQP_s5dETg9Iv3ZYqg.jpg?r=bf1\"/><div aria-hidden=\"true\" class=\"fallback-text-container\"><p class=\"fallback-text\">Back in Action</p></div></div></a>, <a aria-hidden=\"false\" aria-label=\"Rifle Club\" class=\"slider-refocus\" href=\"/watch/81752390?tctx=8%2C1%2C%2C%2C%2C%2C%2C%2C%2CVideo%3A81752390%2C\" tabindex=\"0\"><div class=\"boxart-container boxart-rounded boxart-size-7x10\"><svg class=\"svg-icon svg-icon-rank-2 top-10-rank\" height=\"100%\" id=\"rank-2\" viewbox=\"0 0 80 154\" width=\"100%\"><path d=\"M3.72 152H113v-30.174H50.484l4.355-3.55 29.453-24.012c5.088-4.124 9.748-8.459 13.983-13.004 4.16-4.464 7.481-9.339 9.972-14.629 2.449-5.203 3.678-11.113 3.678-17.749 0-9.428-2.294-17.627-6.875-24.645-4.597-7.042-10.941-12.494-19.07-16.376C77.803 3.957 68.496 2 58.036 2 47.591 2 38.37 4.023 30.347 8.06c-8.015 4.032-14.457 9.578-19.352 16.654-4.492 6.493-7.389 13.803-8.693 21.952h34.055c1.236-3.52 3.398-6.52 6.459-8.97 3.54-2.834 8.277-4.224 14.147-4.224 5.93 0 10.552 1.537 13.76 4.681 3.181 3.12 4.791 7.024 4.791 11.594 0 4.151-1.16 7.934-3.468 11.298-2.192 3.194-5.987 7.124-11.405 11.84L3.72 122.465V152z\" stroke=\"#595959\" stroke-width=\"4\"></path></svg><img alt=\"\" class=\"boxart-image-in-padded-container\" src=\"https://occ-0-2484-3663.1.nflxso.net/dnm/api/v6/mAcAr9TxZIVbINe88xb3Teg5_OA/AAAABSshn8EhdBGl-gw7IW59K4iuOtqUhYVt55pbvrYIQHR1EdCFeAzZSJtwGWi8VHHs0Rq0IYYrcJDS4YQfA78IzJ8QS-W700EIUrr32f6emwmg2T5RG3IxwWjqz-Q6bsJQKZ1ckHt1Q3DWwGN9X5mN4hUTgfLB46AHLkh2qNRvOwMniasL7Daz9iOCyl0nIOSCpXfKBtRgyoRXEsYb_I9Dy5m0pfRUSj9gmtvm2ZTRaGgPHTXQv4oMPEG40QIsiR4wViNe7Ng2TMwfp3LRbXn9prDAslcA5g.webp?r=4ed\"/><div aria-hidden=\"true\" class=\"fallback-text-container\"><p class=\"fallback-text\">Rifle Club</p></div></div></a>, <a aria-hidden=\"false\" aria-label=\"Thangalaan\" class=\"slider-refocus\" href=\"/watch/81632727?tctx=8%2C2%2C%2C%2C%2C%2C%2C%2C%2CVideo%3A81632727%2C\" tabindex=\"0\"><div class=\"boxart-container boxart-rounded boxart-size-7x10\"><svg class=\"svg-icon svg-icon-rank-3 top-10-rank\" height=\"100%\" id=\"rank-3\" viewbox=\"0 0 80 154\" width=\"100%\"><path d=\"M3.809 41.577h33.243c1.3-2.702 3.545-4.947 6.674-6.72 3.554-2.015 7.83-3.01 12.798-3.01 5.555 0 10.14 1.11 13.723 3.376 3.839 2.427 5.782 6.283 5.782 11.315 0 4.553-1.853 8.395-5.473 11.38-3.547 2.926-8.18 4.37-13.821 4.37H41.44v28.366h16.77c5.572 0 10.275 1.227 14.068 3.711 4.02 2.633 6.071 6.581 6.071 11.616 0 5.705-1.943 9.975-5.853 12.562-3.658 2.42-8.292 3.61-13.863 3.61-5.205 0-9.82-.94-13.827-2.836-3.698-1.75-6.32-4.272-7.785-7.529H2.33c2.096 12.089 7.761 21.65 17.028 28.78C29.242 148.175 42.594 152 59.476 152c10.706 0 20.175-1.783 28.42-5.337 8.185-3.528 14.575-8.486 19.208-14.884 4.595-6.346 6.896-13.938 6.896-22.837 0-6.952-1.93-13.494-5.81-19.666-3.815-6.07-9.68-10.367-17.683-12.908l-5.46-1.735 5.353-2.04c6.659-2.538 11.667-6.338 15.083-11.412 3.431-5.096 5.142-10.806 5.142-17.181 0-8.471-2.262-15.778-6.787-21.985-4.574-6.275-10.7-11.17-18.408-14.696C77.683 3.775 69.109 2 59.687 2 44.084 2 31.515 5.816 21.91 13.415c-9 7.119-15.025 16.486-18.101 28.162z\" stroke=\"#595959\" stroke-width=\"4\"></path></svg><img alt=\"\" class=\"boxart-image-in-padded-container\" src=\"https://occ-0-2484-3663.1.nflxso.net/dnm/api/v6/mAcAr9TxZIVbINe88xb3Teg5_OA/AAAABY4wBBi2RPGrzjjeoa69KCGRBlPqWzJ2O3WsvmqDQ54L4C6Z0sZxxsHFeOLCX0pxVIW7nEZK9rxIeSpB9WTbLHyURoDS-mqy-U6r.webp?r=168\"/><div aria-hidden=\"true\" class=\"fallback-text-container\"><p class=\"fallback-text\">Thangalaan</p></div></div></a>, <a aria-hidden=\"false\" aria-label=\"Lucky Baskhar\" class=\"slider-refocus\" href=\"/watch/81902035?tctx=8%2C3%2C%2C%2C%2C%2C%2C%2C%2CVideo%3A81902035%2C\" tabindex=\"0\"><div class=\"boxart-container boxart-rounded boxart-size-7x10\"><svg class=\"svg-icon svg-icon-rank-4 top-10-rank\" height=\"100%\" id=\"rank-4\" viewbox=\"0 0 81 154\" width=\"100%\"><path d=\"M72 152h35.333v-30.977H128V92.497h-20.667V2H69.89L2 92.712v28.311h70V152zM36.202 92.188l35.93-47.998v47.998h-35.93z\" stroke=\"#595959\" stroke-width=\"4\"></path></svg><img alt=\"\" class=\"boxart-image-in-padded-container\" src=\"https://occ-0-2484-3663.1.nflxso.net/dnm/api/v6/mAcAr9TxZIVbINe88xb3Teg5_OA/AAAABUB22iw4eATd2eHow7Y0h-FW0qEPMY01NcyFOMoII2LG96IMZSvmB56AfhM6z6GOGreaopreRJocaB7a1epNXZCN3xeb6mrvkv74.webp?r=e1d\"/><div aria-hidden=\"true\" class=\"fallback-text-container\"><p class=\"fallback-text\">Lucky Baskhar</p></div></div></a>, <a aria-hidden=\"true\" aria-label=\"Mission: Impossible - Dead Reckoning\" class=\"slider-refocus\" href=\"/watch/81665878?tctx=8%2C4%2C%2C%2C%2C%2C%2C%2C%2CVideo%3A81665878%2C\" tabindex=\"-1\"><div class=\"boxart-container boxart-rounded boxart-size-7x10\"><svg class=\"svg-icon svg-icon-rank-5 top-10-rank\" height=\"100%\" id=\"rank-5\" viewbox=\"0 0 81 154\" width=\"100%\"><path d=\"M105.588 32.174V2H13.534l-8.3 88.357h32.463c2.145-2.362 4.866-4.254 8.143-5.675 3.585-1.554 7.543-2.328 11.859-2.328 6.247 0 11.418 1.745 15.418 5.255 4.061 3.564 6.104 8.37 6.104 14.265 0 6.041-2.044 10.89-6.121 14.387-3.999 3.43-9.162 5.132-15.401 5.132-4.299 0-8.17-.694-11.601-2.095-3.11-1.268-5.577-2.946-7.368-5.042H2.592c3.308 11.593 9.782 20.623 19.46 27.164C32.472 148.464 45.64 152 61.602 152c10.12 0 19.294-1.99 27.548-5.966 8.198-3.949 14.711-9.718 19.572-17.335 4.844-7.59 7.278-16.95 7.278-28.123 0-9.182-2.013-17.314-6.032-24.431-4.02-7.118-9.514-12.7-16.51-16.775-6.99-4.072-14.849-6.109-23.612-6.109-11.06 0-20.099 3.483-27.234 10.461l-3.892 3.806 3.273-35.354h63.595z\" stroke=\"#595959\" stroke-width=\"4\"></path></svg><img alt=\"\" class=\"boxart-image-in-padded-container\" src=\"https://occ-0-2484-3663.1.nflxso.net/dnm/api/v6/mAcAr9TxZIVbINe88xb3Teg5_OA/AAAABcv5kw_M9H24mL9rzU2OZu-W8cbpvFME-e1F2ZDzHEveR7ISMgZJOHZmaDgS3LrCh3mig05mls1DAxPk6YtahWzkVAKUKndcs6f4c6VSltltxrhAJTXPD76tj4hdzjq9Zquux8mUaa5-ftfqetc4FGdV1Tl-7LBzjURUxNqSkPFiTNTGUPJCdNFTWDUiLoVC7YCm5Tp3wI6FodIkXOVeBYhQ_CSjOocT989WfDC-LGQRCqa9MBfJJG-Y41eozkRzYzVNxWQHogotjCGiTek4aKyf3s7NZw.webp?r=568\"/><div aria-hidden=\"true\" class=\"fallback-text-container\"><p class=\"fallback-text\">Mission: Impossible - Dead Reckoning</p></div></div></a>, <a aria-hidden=\"true\" aria-label=\"Bhool Bhulaiyaa 3\" class=\"slider-refocus\" href=\"/watch/81686134?tctx=8%2C5%2C%2C%2C%2C%2C%2C%2C%2CVideo%3A81686134%2C\" tabindex=\"-1\"><div class=\"boxart-container boxart-rounded boxart-size-7x10\"><svg class=\"svg-icon svg-icon-rank-6 top-10-rank\" height=\"100%\" id=\"rank-6\" viewbox=\"0 0 81 154\" width=\"100%\"><path d=\"M79.482 38.192h35.551c-3.284-10.945-8.963-19.573-17.048-25.938C89.323 5.434 77.531 2 62.545 2 50.756 2 40.35 4.86 31.277 10.577c-9.064 5.712-16.198 14.09-21.412 25.178C4.63 46.893 2 60.425 2 76.365c0 14.416 2.356 27.344 7.059 38.798 4.667 11.368 11.573 20.34 20.734 26.956C38.904 148.7 50.225 152 63.816 152a61.513 61.513 0 0019.922-3.278 53.546 53.546 0 0017.378-9.792c5.154-4.33 9.255-9.64 12.314-15.947 3.042-6.273 4.57-13.556 4.57-21.868 0-8.812-2.062-16.636-6.182-23.51-4.134-6.897-9.643-12.293-16.55-16.212-6.905-3.917-14.48-5.874-22.76-5.874-14.546 0-25.34 4.55-32.569 13.63l-4.003 5.03.443-6.413c.874-12.636 3.56-21.85 8.168-27.654 4.69-5.907 10.885-8.9 18.421-8.9 4.26 0 7.826.734 10.685 2.24 2.445 1.287 4.396 2.867 5.829 4.74zM62.605 123c-5.825 0-10.902-1.894-15.136-5.655C43.173 113.528 41 108.603 41 102.71c0-5.881 2.164-10.864 6.44-14.818C51.674 83.975 56.762 82 62.604 82c5.847 0 10.906 1.98 15.074 5.905C81.878 91.859 84 96.837 84 102.71c0 5.885-2.131 10.805-6.35 14.622-4.167 3.77-9.214 5.668-15.045 5.668z\" stroke=\"#595959\" stroke-width=\"4\"></path></svg><img alt=\"\" class=\"boxart-image-in-padded-container\" src=\"https://occ-0-2484-3663.1.nflxso.net/dnm/api/v6/mAcAr9TxZIVbINe88xb3Teg5_OA/AAAABWIWRDQ3mmfDsV76kL1YdwuYwYjRR1cFP7eZSWnsjUbZUmFOjSthW83Nm4riBk0qT8zJIXTayMr_zdUIRJka3y3WxT8YjijFjzXfqOXQQlIzdT-KdI6HQqzQEpNqn8I0uynZhtO2ozcUKpEV_BorvSMkVQSWO6AzlgU2kEUH2fr7kP8QAoUs8uNYPp3NjoYLCofcfa_kkjet5m-hz-VBdjjM-I5BfPcFjs4WzrQyK0Ced2xzOQWVENRxMyIQ4MFU79GQrLuKIZJ95RiGDn-5tMtNqCgCKQ.webp?r=d32\"/><div aria-hidden=\"true\" class=\"fallback-text-container\"><p class=\"fallback-text\">Bhool Bhulaiyaa 3</p></div></div></a>, <a aria-hidden=\"true\" aria-label=\"Amaran\" class=\"slider-refocus\" href=\"/watch/81728596?tctx=8%2C6%2C%2C%2C%2C%2C%2C%2C%2CVideo%3A81728596%2C\" tabindex=\"-1\"><div class=\"boxart-container boxart-rounded boxart-size-7x10\"><svg class=\"svg-icon svg-icon-rank-7 top-10-rank\" height=\"100%\" id=\"rank-7\" viewbox=\"0 0 78 154\" width=\"100%\"><path d=\"M113,2 L2,2 L2,33.4022989 L75.9665929,33.4022989 L21.22571,152 L60.28102,152 L113,32.7672283 L113,2 Z\" stroke=\"#595959\" stroke-width=\"4\"></path></svg><img alt=\"\" class=\"boxart-image-in-padded-container\" src=\"https://occ-0-2484-3663.1.nflxso.net/dnm/api/v6/mAcAr9TxZIVbINe88xb3Teg5_OA/AAAABbzAv77qhU8cM6Ee9yugehLSArrgaJWAlGr4u_aIsCaQbc83nj6yh8q_vYOPHEc-5qLCXvB7mdsVDlsMvlUD2Q8av-lasimRwWnU.webp?r=fcf\"/><div aria-hidden=\"true\" class=\"fallback-text-container\"><p class=\"fallback-text\">Amaran</p></div></div></a>, <a aria-hidden=\"true\" aria-label=\"Ad Vitam\" class=\"slider-refocus\" href=\"/watch/81752951?tctx=8%2C7%2C%2C%2C%2C%2C%2C%2C%2CVideo%3A81752951%2C\" tabindex=\"-1\"><div class=\"boxart-container boxart-rounded boxart-size-7x10\"><svg class=\"svg-icon svg-icon-rank-8 top-10-rank\" height=\"100%\" id=\"rank-8\" viewbox=\"0 0 77 154\" width=\"100%\"><path d=\"M59.5 152c11.335 0 21.358-1.72 30.077-5.15 8.637-3.397 15.361-8.258 20.213-14.586 4.805-6.267 7.21-13.876 7.21-22.899 0-7.326-2.261-14.07-6.813-20.29-4.548-6.214-10.837-10.658-18.922-13.35l-5.4-1.799 5.338-1.975c7.238-2.678 12.572-6.683 16.066-12.018 3.53-5.388 5.284-11.178 5.284-17.414 0-7.912-2.133-14.839-6.405-20.84-4.3-6.042-10.403-10.825-18.345-14.351C79.816 3.78 70.386 2 59.5 2S39.184 3.781 31.197 7.328c-7.942 3.526-14.044 8.309-18.345 14.351-4.272 6.001-6.405 12.928-6.405 20.84 0 6.236 1.755 12.026 5.284 17.414 3.494 5.335 8.828 9.34 16.066 12.018l5.338 1.975-5.4 1.798c-8.085 2.693-14.374 7.137-18.922 13.351C4.261 95.295 2 102.04 2 109.365c0 9.023 2.405 16.632 7.21 22.899 4.852 6.328 11.576 11.19 20.213 14.586 8.72 3.43 18.742 5.15 30.077 5.15zm.5-89c-5.6 0-10.334-1.515-14.125-4.56C41.985 55.313 40 51.183 40 46.21c0-5.244 1.976-9.518 5.875-12.65C49.666 30.515 54.4 29 60 29s10.334 1.515 14.125 4.56C78.025 36.694 80 40.968 80 46.212c0 4.973-1.985 9.103-5.875 12.228C70.334 61.485 65.6 63 60 63zm-.5 62c-6.255 0-11.556-1.613-15.836-4.856-4.41-3.343-6.664-7.816-6.664-13.25 0-5.298 2.258-9.698 6.664-13.038C47.944 90.613 53.245 89 59.5 89c6.255 0 11.556 1.613 15.836 4.856 4.406 3.34 6.664 7.74 6.664 13.038 0 5.434-2.254 9.907-6.664 13.25C71.056 123.387 65.755 125 59.5 125z\" stroke=\"#595959\" stroke-width=\"4\"></path></svg><img alt=\"\" class=\"boxart-image-in-padded-container\" src=\"https://occ-0-2484-3663.1.nflxso.net/dnm/api/v6/mAcAr9TxZIVbINe88xb3Teg5_OA/AAAABahxJv9gbnPqAyKaxa6p1J1P5N4O-wOr4IHrw-EocEb-p6PyCCPKlUDpfbQykOQ3drpgP3zg6wwfPo_qgNpnt21ltfehJ5q8gZK1p7Xdzz0uH4FTZJuLvGmgXrs6Mvh7WmWIk02tVPSCGAg9HaPIM9X2-veUFdC5zfeqqMX4-a0KPi_75BEtE60XtX00deobVd2oie5f9_T7D7pdw_97zUHSj5Sect3QdlNv2IDBCPANtsKo40Vmz5NariSBmAODWv1jEvEywfVlNWjgeYCFTWQy6kM4KzxZYMmvjYM8TTxr6l4WCnrO_e9n1g.jpg?r=be4\"/><div aria-hidden=\"true\" class=\"fallback-text-container\"><p class=\"fallback-text\">Ad Vitam</p></div></div></a>, <a aria-label=\"facebook\" class=\"social-link\" href=\"https://www.facebook.com/NetflixIN/\" target=\"_blank\"><svg aria-hidden=\"true\" class=\"svg-icon svg-icon-facebook-logo\" data-icon=\"FacebookStandard\" fill=\"none\" height=\"24\" role=\"img\" viewbox=\"0 0 24 24\" width=\"24\" xmlns=\"http://www.w3.org/2000/svg\"><path clip-rule=\"evenodd\" d=\"M13.987 13.1621V21.9841H10.042V13.1621H6.84198V9.51207H10.047V6.73207C10.047 3.56707 11.932 1.82007 14.815 1.82007C15.7618 1.83321 16.7063 1.91577 17.641 2.06707V5.17307H16.045C15.4954 5.10007 14.9424 5.28088 14.5421 5.66447C14.1417 6.04807 13.9375 6.59284 13.987 7.14507V9.51207H17.487L16.928 13.1621H13.987Z\" fill=\"currentColor\" fill-rule=\"evenodd\"></path></svg></a>, <a aria-label=\"instagram\" class=\"social-link\" href=\"https://www.instagram.com/Netflix_IN/\" target=\"_blank\"><svg aria-hidden=\"true\" class=\"svg-icon svg-icon-instagram-logo\" data-icon=\"InstagramStandard\" fill=\"none\" height=\"24\" role=\"img\" viewbox=\"0 0 24 24\" width=\"24\" xmlns=\"http://www.w3.org/2000/svg\"><path clip-rule=\"evenodd\" d=\"M21.93 16.123C21.9584 17.6765 21.3789 19.1796 20.315 20.312C19.1851 21.3804 17.6797 21.9607 16.125 21.927C14.474 22.021 9.52499 22.021 7.87499 21.927C6.32126 21.9551 4.81792 21.3757 3.68499 20.312C2.61754 19.1819 2.03744 17.6772 2.06999 16.123C1.97699 14.472 1.97699 9.523 2.06999 7.873C2.03955 6.31886 2.61933 4.81466 3.68499 3.683C4.81767 2.61952 6.32162 2.04163 7.87499 2.073C9.52599 1.979 14.475 1.979 16.125 2.073C17.6789 2.04394 19.1826 2.62353 20.315 3.688C21.3825 4.81813 21.9625 6.32278 21.93 7.877C22.023 9.528 22.023 14.472 21.93 16.123ZM20.2 12C20.2 10.545 20.32 7.422 19.8 6.106C19.4572 5.23679 18.7692 4.54875 17.9 4.206C16.588 3.689 13.461 3.806 12.006 3.806C10.551 3.806 7.42799 3.685 6.11199 4.206C5.24298 4.54905 4.55505 5.23699 4.21199 6.106C3.69499 7.418 3.81199 10.545 3.81199 12C3.81199 13.455 3.69099 16.578 4.21199 17.894C4.55535 18.7628 5.24318 19.4506 6.11199 19.794C7.42399 20.311 10.552 20.194 12.006 20.194C13.46 20.194 16.584 20.315 17.9 19.794C18.769 19.451 19.4569 18.763 19.8 17.894C20.319 16.582 20.2 13.455 20.2 12ZM17.13 12C17.13 14.8312 14.8352 17.1264 12.004 17.127C9.17282 17.1276 6.8771 14.8332 6.87599 12.002C6.87489 9.17083 9.16882 6.87466 12 6.87299C13.3608 6.87034 14.6666 7.40959 15.629 8.37161C16.5914 9.33363 17.1311 10.6392 17.129 12H17.13ZM15.336 12C15.336 10.1596 13.8444 8.66756 12.004 8.667C10.1636 8.66645 8.6711 10.1576 8.66999 11.998C8.66889 13.8384 10.1596 15.3313 12 15.333C13.8406 15.3319 15.3328 13.8406 15.335 12H15.336ZM17.336 7.85901C16.6733 7.85901 16.136 7.32174 16.136 6.659C16.136 5.99626 16.6733 5.459 17.336 5.459C17.9987 5.459 18.536 5.99626 18.536 6.659C18.5379 6.97731 18.4124 7.28317 18.1876 7.50853C17.9628 7.73389 17.6573 7.86008 17.339 7.85901H17.336Z\" fill=\"currentColor\" fill-rule=\"evenodd\"></path></svg></a>, <a aria-label=\"twitter\" class=\"social-link\" href=\"https://twitter.com/netflixindia\" target=\"_blank\"><svg aria-hidden=\"true\" class=\"svg-icon svg-icon-twitter-logo\" data-icon=\"TwitterStandard\" fill=\"none\" height=\"24\" role=\"img\" viewbox=\"0 0 24 24\" width=\"24\" xmlns=\"http://www.w3.org/2000/svg\"><path clip-rule=\"evenodd\" d=\"M20.768 8.207C20.7914 11.5932 19.4565 14.8475 17.062 17.242C14.6675 19.6365 11.4132 20.9714 8.027 20.948C5.58923 20.9544 3.20152 20.2564 1.151 18.938C1.50998 18.9771 1.87091 18.9955 2.232 18.993C4.24768 18.9984 6.20639 18.3245 7.792 17.08C5.87438 17.0472 4.18971 15.799 3.6 13.974C3.87982 14.0187 4.16264 14.0421 4.446 14.044C4.84354 14.0428 5.23935 13.9914 5.624 13.891C3.53637 13.4667 2.0367 11.6303 2.038 9.5V9.441C2.65835 9.78765 3.3519 9.98262 4.062 10.01C2.08979 8.69332 1.48225 6.06954 2.675 4.02C4.94972 6.82016 8.30596 8.52336 11.909 8.706C11.8375 8.369 11.8009 8.02551 11.8 7.681C11.8014 5.84295 12.9248 4.19204 14.6341 3.51625C16.3434 2.84047 18.2921 3.2768 19.55 4.617C20.5522 4.42342 21.5131 4.05731 22.39 3.535C22.0556 4.56894 21.3555 5.44538 20.421 6C21.3102 5.89965 22.1795 5.66709 23 5.31C22.3866 6.20228 21.6273 6.98489 20.754 7.625C20.768 7.82 20.768 8.014 20.768 8.207Z\" fill=\"currentColor\" fill-rule=\"evenodd\"></path></svg></a>, <a aria-label=\"youtube\" class=\"social-link\" href=\"https://www.youtube.com/channel/UCZSNzBgFub_WWil6TOTYwAg\" target=\"_blank\"><svg aria-hidden=\"true\" class=\"svg-icon svg-icon-youtube-logo\" data-icon=\"YoutubeStandard\" fill=\"none\" height=\"24\" role=\"img\" viewbox=\"0 0 24 24\" width=\"24\" xmlns=\"http://www.w3.org/2000/svg\"><path clip-rule=\"evenodd\" d=\"M22.54 6.67C22.288 5.71873 21.549 4.97331 20.6 4.713C18.88 4.25 12 4.25 12 4.25C12 4.25 5.11997 4.25 3.39997 4.713C2.45094 4.97331 1.71199 5.71873 1.45997 6.67C1.14265 8.42869 0.988663 10.213 0.99997 12C0.988663 13.787 1.14265 15.5713 1.45997 17.33C1.71288 18.2825 2.45401 19.0282 3.40497 19.287C5.11997 19.75 12.005 19.75 12.005 19.75C12.005 19.75 18.885 19.75 20.6 19.287C21.549 19.0267 22.288 18.2813 22.54 17.33C22.8573 15.5713 23.0113 13.787 23 12C23.0113 10.213 22.8573 8.42869 22.54 6.67ZM9.74997 15.27V8.729L15.5 12L9.74997 15.27Z\" fill=\"currentColor\" fill-rule=\"evenodd\"></path></svg></a>, <a class=\"member-footer-link\" href=\"/browse/audio-description\" target=\"_self\"><span class=\"member-footer-link-content\">Audio Description</span></a>, <a class=\"member-footer-link\" href=\"https://help.netflix.com/\" target=\"_self\"><span class=\"member-footer-link-content\">Help Centre</span></a>, <a class=\"member-footer-link\" href=\"/redeem\" target=\"_self\"><span class=\"member-footer-link-content\">Gift Cards</span></a>, <a class=\"member-footer-link\" href=\"https://media.netflix.com/\" target=\"_self\"><span class=\"member-footer-link-content\">Media Centre</span></a>, <a class=\"member-footer-link\" href=\"http://ir.netflix.com/\" target=\"_self\"><span class=\"member-footer-link-content\">Investor Relations</span></a>, <a class=\"member-footer-link\" href=\"https://jobs.netflix.com/\" target=\"_self\"><span class=\"member-footer-link-content\">Jobs</span></a>, <a class=\"member-footer-link\" href=\"https://help.netflix.com/legal/termsofuse\" target=\"_self\"><span class=\"member-footer-link-content\">Terms of Use</span></a>, <a class=\"member-footer-link\" href=\"https://help.netflix.com/legal/privacy\" target=\"_self\"><span class=\"member-footer-link-content\">Privacy</span></a>, <a class=\"member-footer-link\" href=\"https://help.netflix.com/legal/notices\" target=\"_self\"><span class=\"member-footer-link-content\">Legal Notices</span></a>, <a class=\"member-footer-link\" href=\"/Cookies\" target=\"_self\"><span class=\"member-footer-link-content\">Cookie Preferences</span></a>, <a class=\"member-footer-link\" href=\"https://help.netflix.com/legal/corpinfo\" target=\"_self\"><span class=\"member-footer-link-content\">Corporate Information</span></a>, <a class=\"member-footer-link\" href=\"https://help.netflix.com/contactus\" target=\"_self\"><span class=\"member-footer-link-content\">Contact Us</span></a>, <a href=\"https://help.netflix.com/legal/privacy#cookies\">Cookies and Internet Advertising</a>, <a href=\"https://help.netflix.com/legal/privacy\">Privacy Statement.</a>, <a href=\"https://help.netflix.com/legal/termsofuse\" rel=\"nofollow\">Terms of Use.</a>, <a href=\"https://help.netflix.com/legal/termsofuse\">Terms of Use</a>, <a href=\"https://help.netflix.com/legal/privacy\">Privacy Statement</a>, <a href=\"https://help.netflix.com/legal/privacy\">Privacy Statement</a>, <a aria-label=\"Powered by OneTrust Opens in a new Tab\" href=\"https://www.onetrust.com/products/cookie-consent/\" rel=\"noopener noreferrer\" target=\"_blank\"><img alt=\"Powered by Onetrust\" src=\"https://help.nflxext.com/helpcenter/OneTrust/oneTrust_production/consent/87b6a5c0-0104-4e96-a291-092c11350111/01938dc4-59b3-7bbc-b635-c4131030e85f/logos/static/powered_by_logo.svg\" title=\"Powered by OneTrust Opens in a new Tab\"/></a>]\n"
     ]
    }
   ],
   "source": [
    "print(links)"
   ]
  },
  {
   "cell_type": "code",
   "execution_count": 44,
   "metadata": {},
   "outputs": [],
   "source": [
    "aria_label_count = len(soup.find_all('a', {'aria-label': True}))\n",
    "href_count = soup.find_all('a', {'href': True})"
   ]
  },
  {
   "cell_type": "code",
   "execution_count": 45,
   "metadata": {},
   "outputs": [
    {
     "name": "stdout",
     "output_type": "stream",
     "text": [
      "1: /browse\n",
      "\n",
      "2: /browse\n",
      "\n",
      "3: /browse\n",
      "\n",
      "4: /browse/genre/83\n",
      "\n",
      "5: /browse/genre/34399\n",
      "\n",
      "6: /latest\n",
      "\n",
      "7: /browse/my-list\n",
      "\n",
      "8: /browse/original-audio\n",
      "\n",
      "9: /Kids\n",
      "\n",
      "10: /YourAccount\n",
      "\n",
      "11: /watch/81480005?trackId=254015180&tctx=0%2C0%2Cdfa6b48e-a329-4a22-a1df-3d83db05eb30-12608581%2CNES_30E10B462DA7F9D1B316E527AA97AD-E911D54DEEF141-8721E6B06B_p_1737614777122%2CNES_30E10B462DA7F9D1B316E527AA97AD_p_1737614777122%2C%2C%2C%2C%2CVideo%3A80995578%2C\n",
      "\n",
      "12: /browse/m/popular-titles\n",
      "\n",
      "13: /watch/81040344?tctx=1%2C0%2C%2C%2C%2C%2C%2C%2C%2CVideo%3A81040344%2C\n",
      "\n",
      "14: /watch/81902035?tctx=1%2C1%2C%2C%2C%2C%2C%2C%2C%2CVideo%3A81902035%2C\n",
      "\n",
      "15: /watch/81971071?tctx=1%2C2%2C%2C%2C%2C%2C%2C%2C%2CVideo%3A81971071%2C\n",
      "\n",
      "16: /watch/80192098?tctx=1%2C3%2C%2C%2C%2C%2C%2C%2C%2CVideo%3A80192098%2C\n",
      "\n",
      "17: /watch/81324724?tctx=1%2C4%2C%2C%2C%2C%2C%2C%2C%2CVideo%3A81324724%2C\n",
      "\n",
      "18: /watch/81686134?tctx=1%2C5%2C%2C%2C%2C%2C%2C%2C%2CVideo%3A81686134%2C\n",
      "\n",
      "19: /watch/81728596?tctx=1%2C6%2C%2C%2C%2C%2C%2C%2C%2CVideo%3A81728596%2C\n",
      "\n",
      "20: /watch/81632727?tctx=1%2C7%2C%2C%2C%2C%2C%2C%2C%2CVideo%3A81632727%2C\n",
      "\n",
      "21: /browse/m/continue-watching\n",
      "\n",
      "22: /watch/80200575?tctx=2%2C0%2C%2C%2C%2C%2C%2C%2C%2CVideo%3A80200575%2C\n",
      "\n",
      "23: /watch/81737430?tctx=2%2C1%2C%2C%2C%2C%2C%2C%2C%2CVideo%3A81737430%2C\n",
      "\n",
      "24: /watch/81597698?tctx=2%2C2%2C%2C%2C%2C%2C%2C%2C%2CVideo%3A81597698%2C\n",
      "\n",
      "25: /watch/81249833?tctx=2%2C3%2C%2C%2C%2C%2C%2C%2C%2CVideo%3A81249833%2C\n",
      "\n",
      "26: /watch/81773534?tctx=2%2C4%2C%2C%2C%2C%2C%2C%2C%2CVideo%3A81773534%2C\n",
      "\n",
      "27: /watch/70202336?tctx=2%2C5%2C%2C%2C%2C%2C%2C%2C%2CVideo%3A70202336%2C\n",
      "\n",
      "28: /watch/81345769?tctx=2%2C6%2C%2C%2C%2C%2C%2C%2C%2CVideo%3A81345769%2C\n",
      "\n",
      "29: /watch/81728085?tctx=2%2C7%2C%2C%2C%2C%2C%2C%2C%2CVideo%3A81728085%2C\n",
      "\n",
      "30: /browse/m/genre/6548\n",
      "\n",
      "31: /watch/81307099?tctx=3%2C0%2C%2C%2C%2C%2C%2C%2C%2CVideo%3A81307099%2C\n",
      "\n",
      "32: /watch/81942680?tctx=3%2C1%2C%2C%2C%2C%2C%2C%2C%2CVideo%3A81942680%2C\n",
      "\n",
      "33: /watch/81752390?tctx=3%2C2%2C%2C%2C%2C%2C%2C%2C%2CVideo%3A81752390%2C\n",
      "\n",
      "34: /watch/81686136?tctx=3%2C3%2C%2C%2C%2C%2C%2C%2C%2CVideo%3A81686136%2C\n",
      "\n",
      "35: /watch/81760391?tctx=3%2C4%2C%2C%2C%2C%2C%2C%2C%2CVideo%3A81760391%2C\n",
      "\n",
      "36: /watch/81678103?tctx=3%2C5%2C%2C%2C%2C%2C%2C%2C%2CVideo%3A81678103%2C\n",
      "\n",
      "37: /watch/80065328?tctx=3%2C6%2C%2C%2C%2C%2C%2C%2C%2CVideo%3A80065328%2C\n",
      "\n",
      "38: /watch/70276515?tctx=3%2C7%2C%2C%2C%2C%2C%2C%2C%2CVideo%3A70276515%2C\n",
      "\n",
      "39: /browse/m/trending-now\n",
      "\n",
      "40: /watch/81632727?tctx=4%2C0%2C%2C%2C%2C%2C%2C%2C%2CVideo%3A81632727%2C\n",
      "\n",
      "41: /watch/81665878?tctx=4%2C1%2C%2C%2C%2C%2C%2C%2C%2CVideo%3A81665878%2C\n",
      "\n",
      "42: /watch/81728598?tctx=4%2C2%2C%2C%2C%2C%2C%2C%2C%2CVideo%3A81728598%2C\n",
      "\n",
      "43: /watch/81436901?tctx=4%2C3%2C%2C%2C%2C%2C%2C%2C%2CVideo%3A81436901%2C\n",
      "\n",
      "44: /watch/60023237?tctx=4%2C4%2C%2C%2C%2C%2C%2C%2C%2CVideo%3A60023237%2C\n",
      "\n",
      "45: /watch/81922315?tctx=4%2C5%2C%2C%2C%2C%2C%2C%2C%2CVideo%3A81922315%2C\n",
      "\n",
      "46: /watch/81704690?tctx=4%2C6%2C%2C%2C%2C%2C%2C%2C%2CVideo%3A81704690%2C\n",
      "\n",
      "47: /watch/81728596?tctx=4%2C7%2C%2C%2C%2C%2C%2C%2C%2CVideo%3A81728596%2C\n",
      "\n",
      "48: /watch/81971071?tctx=5%2C0%2C%2C%2C%2C%2C%2C%2C%2CVideo%3A81971071%2C\n",
      "\n",
      "49: /watch/81324724?tctx=5%2C1%2C%2C%2C%2C%2C%2C%2C%2CVideo%3A81324724%2C\n",
      "\n",
      "50: /watch/81922315?tctx=5%2C2%2C%2C%2C%2C%2C%2C%2C%2CVideo%3A81922315%2C\n",
      "\n",
      "51: /watch/81040344?tctx=5%2C3%2C%2C%2C%2C%2C%2C%2C%2CVideo%3A81040344%2C\n",
      "\n",
      "52: /watch/81663325?tctx=5%2C4%2C%2C%2C%2C%2C%2C%2C%2CVideo%3A81663325%2C\n",
      "\n",
      "53: /watch/81436209?tctx=5%2C5%2C%2C%2C%2C%2C%2C%2C%2CVideo%3A81436209%2C\n",
      "\n",
      "54: /watch/80200575?tctx=5%2C6%2C%2C%2C%2C%2C%2C%2C%2CVideo%3A80200575%2C\n",
      "\n",
      "55: /watch/80220079?tctx=5%2C7%2C%2C%2C%2C%2C%2C%2C%2CVideo%3A80220079%2C\n",
      "\n",
      "56: /play-game/81697077\n",
      "\n",
      "57: /play-game/81569945\n",
      "\n",
      "58: /play-game/81557928\n",
      "\n",
      "59: /play-game/81720311\n",
      "\n",
      "60: /play-game/81509222\n",
      "\n",
      "61: /play-game/81636736\n",
      "\n",
      "62: /play-game/81664652\n",
      "\n",
      "63: /play-game/81670903\n",
      "\n",
      "64: /browse/m/genre/2638104\n",
      "\n",
      "65: /watch/81719583?tctx=7%2C0%2C%2C%2C%2C%2C%2C%2C%2CVideo%3A81719583%2C\n",
      "\n",
      "66: /watch/81237994?tctx=7%2C1%2C%2C%2C%2C%2C%2C%2C%2CVideo%3A81237994%2C\n",
      "\n",
      "67: /watch/81707950?tctx=7%2C2%2C%2C%2C%2C%2C%2C%2C%2CVideo%3A81707950%2C\n",
      "\n",
      "68: /watch/81061734?tctx=7%2C3%2C%2C%2C%2C%2C%2C%2C%2CVideo%3A81061734%2C\n",
      "\n",
      "69: /watch/81365087?tctx=7%2C4%2C%2C%2C%2C%2C%2C%2C%2CVideo%3A81365087%2C\n",
      "\n",
      "70: /watch/81444051?tctx=7%2C5%2C%2C%2C%2C%2C%2C%2C%2CVideo%3A81444051%2C\n",
      "\n",
      "71: /watch/81912961?tctx=7%2C6%2C%2C%2C%2C%2C%2C%2C%2CVideo%3A81912961%2C\n",
      "\n",
      "72: /watch/81618079?tctx=7%2C7%2C%2C%2C%2C%2C%2C%2C%2CVideo%3A81618079%2C\n",
      "\n",
      "73: /watch/81307099?tctx=8%2C0%2C%2C%2C%2C%2C%2C%2C%2CVideo%3A81307099%2C\n",
      "\n",
      "74: /watch/81752390?tctx=8%2C1%2C%2C%2C%2C%2C%2C%2C%2CVideo%3A81752390%2C\n",
      "\n",
      "75: /watch/81632727?tctx=8%2C2%2C%2C%2C%2C%2C%2C%2C%2CVideo%3A81632727%2C\n",
      "\n",
      "76: /watch/81902035?tctx=8%2C3%2C%2C%2C%2C%2C%2C%2C%2CVideo%3A81902035%2C\n",
      "\n",
      "77: /watch/81665878?tctx=8%2C4%2C%2C%2C%2C%2C%2C%2C%2CVideo%3A81665878%2C\n",
      "\n",
      "78: /watch/81686134?tctx=8%2C5%2C%2C%2C%2C%2C%2C%2C%2CVideo%3A81686134%2C\n",
      "\n",
      "79: /watch/81728596?tctx=8%2C6%2C%2C%2C%2C%2C%2C%2C%2CVideo%3A81728596%2C\n",
      "\n",
      "80: /watch/81752951?tctx=8%2C7%2C%2C%2C%2C%2C%2C%2C%2CVideo%3A81752951%2C\n",
      "\n",
      "81: https://www.facebook.com/NetflixIN/\n",
      "\n",
      "82: https://www.instagram.com/Netflix_IN/\n",
      "\n",
      "83: https://twitter.com/netflixindia\n",
      "\n",
      "84: https://www.youtube.com/channel/UCZSNzBgFub_WWil6TOTYwAg\n",
      "\n",
      "85: /browse/audio-description\n",
      "\n",
      "86: https://help.netflix.com/\n",
      "\n",
      "87: /redeem\n",
      "\n",
      "88: https://media.netflix.com/\n",
      "\n",
      "89: http://ir.netflix.com/\n",
      "\n",
      "90: https://jobs.netflix.com/\n",
      "\n",
      "91: https://help.netflix.com/legal/termsofuse\n",
      "\n",
      "92: https://help.netflix.com/legal/privacy\n",
      "\n",
      "93: https://help.netflix.com/legal/notices\n",
      "\n",
      "94: /Cookies\n",
      "\n",
      "95: https://help.netflix.com/legal/corpinfo\n",
      "\n",
      "96: https://help.netflix.com/contactus\n",
      "\n",
      "97: https://help.netflix.com/legal/privacy#cookies\n",
      "\n",
      "98: https://help.netflix.com/legal/privacy\n",
      "\n",
      "99: https://help.netflix.com/legal/termsofuse\n",
      "\n",
      "100: https://help.netflix.com/legal/termsofuse\n",
      "\n",
      "101: https://help.netflix.com/legal/privacy\n",
      "\n",
      "102: https://help.netflix.com/legal/privacy\n",
      "\n",
      "103: https://www.onetrust.com/products/cookie-consent/\n",
      "\n"
     ]
    }
   ],
   "source": [
    "n=1\n",
    "for each in href_count:\n",
    "    print(f\"{n}: {each['href']}\\n\")\n",
    "    n=n+1"
   ]
  },
  {
   "cell_type": "code",
   "execution_count": null,
   "metadata": {},
   "outputs": [],
   "source": []
  }
 ],
 "metadata": {
  "kernelspec": {
   "display_name": "myLLM",
   "language": "python",
   "name": "python3"
  },
  "language_info": {
   "codemirror_mode": {
    "name": "ipython",
    "version": 3
   },
   "file_extension": ".py",
   "mimetype": "text/x-python",
   "name": "python",
   "nbconvert_exporter": "python",
   "pygments_lexer": "ipython3",
   "version": "3.12.0"
  }
 },
 "nbformat": 4,
 "nbformat_minor": 2
}
